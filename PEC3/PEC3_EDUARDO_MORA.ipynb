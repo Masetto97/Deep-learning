{
 "cells": [
  {
   "cell_type": "markdown",
   "id": "acd93030",
   "metadata": {},
   "source": [
    "<div style=\"width: 100%; clear: both;\">\n",
    "<div style=\"float: left; width: 50%;\">\n",
    "<img src=\"http://www.uoc.edu/portal/_resources/common/imatges/marca_UOC/UOC_Masterbrand.jpg\", align=\"left\">\n",
    "</div>\n",
    "<div style=\"float: right; width: 50%;\">\n",
    "<p style=\"margin: 0; padding-top: 22px; text-align:right;\">M2.875 · Deep Learning · PEC2</p>\n",
    "<p style=\"margin: 0; text-align:right;\">2022-2 · Máster universitario en Ciencia de datos (Data science)</p>\n",
    "<p style=\"margin: 0; text-align:right; padding-button: 100px;\">Estudios de Informática, Multimedia y Telecomunicación</p>\n",
    "</div>\n",
    "</div>\n",
    "<div style=\"width:100%;\">&nbsp;</div>\n",
    "\n",
    "\n",
    "# PEC 3: Transformers\n",
    "\n",
    "En esta práctica introduciremos el modelo de aprendizaje profundo basado en _transformer_ y lo aplicaremos en dos problemas relacionados con el procesamiento de lenguage natural. \n",
    "\n",
    "<u>Consideraciones generales</u>: \n",
    "\n",
    "- Esta PEC debe realizarse de forma **estrictamente individual**. Cualquier indicio de copia será penalizado con un suspenso (D) para todas las partes implicadas y la posible evaluación negativa de la asignatura de forma íntegra.\n",
    "- Es necesario que el estudiante indique **todas las fuentes** que ha utilizado para la realización de la PEC. De no ser así, se considerará que el estudiante ha cometido plagio, siendo penalizado con un suspenso (D) y la posible evaluación negativa de la asignatura de forma íntegra.\n",
    "\n",
    "<u>Formato de la entrega</u>:\n",
    "\n",
    "- Algunos ejercicios pueden suponer varios minutos de ejecución, por lo que la entrega debe hacerse en **formato notebook** y en **formato html**, donde se vea el código, los resultados y comentarios de cada ejercicio. Se puede exportar el notebook a HTML desde el menú File $\\to$ Download as $\\to$ HTML.\n",
    "- Existe un tipo de celda especial para albergar texto. Este tipo de celda os será muy útil para responder a las diferentes preguntas teóricas planteadas a lo largo de la actividad. Para cambiar el tipo de celda a este tipo, en el menú: Cell $\\to$ Cell Type $\\to$ Markdown."
   ]
  },
  {
   "cell_type": "markdown",
   "id": "6dbdf755",
   "metadata": {},
   "source": [
    "# 0. Introducción\n",
    "Esta PEC constará de dos ejercicios independientes: \n",
    "- En el primero se aplicarán los modelos de transformers a un problema de análisis de sentimiento en textos cortos de twitter,\n",
    "- En el segundo ejercicio se aplicará este tipo de algorítmos para entrenar un traductor de inglés a francés.\n",
    "\n",
    "La PEC se puede ejecutar en GPU (opción preferente) o en CPU. Como referencia, el apartado computacionalmente más costoso puede tardar alrededor un par de horas en un computador moderno con un chip i7 reciente. En cualquier caso, estos tiempos meramente orientativos y dependerán de la implementación y del hardware disponible."
   ]
  },
  {
   "cell_type": "markdown",
   "id": "f52ec05e",
   "metadata": {},
   "source": [
    "# 1. Carga y preprocesado de la base de datos Sentiment 140 (2 puntos)\n",
    "La base de datos [Sentiment 140](https://www-cs.stanford.edu/people/alecmgo/papers/TwitterDistantSupervision09.pdf) se compone de más de 1 millón de tweets que se han clasificado en función de si el mensaje es negativo (0) o positivo (4). El dataset se puede descargar desde la página de kaggle dedicada a ello:\n",
    "- https://www.kaggle.com/datasets/kazanova/sentiment140\n",
    "\n",
    "El objetivo de este ejercicio es entrenar un modelo que, dada una frase cualquiera, sea capaz de predecir si el mensaje es negativo o positivo. Las etapas del ejercicio serán las siguientes:\n",
    "* Carga, preprocesado, exploración y visualización de los datos. \n",
    "* Entrenamiento de un modelo tradicional basado en una RNN o LSTM.\n",
    "* Entrenamiento de una red que incluya Transformers.\n",
    "* Optimización automática de los hyperparámetros del Transformer.\n",
    "* Escalado de la arquitectura y mejora de los resultados. \n"
   ]
  },
  {
   "cell_type": "code",
   "execution_count": 1,
   "id": "7906efca",
   "metadata": {
    "execution": {
     "iopub.execute_input": "2023-05-15T07:35:51.827959Z",
     "iopub.status.busy": "2023-05-15T07:35:51.827583Z",
     "iopub.status.idle": "2023-05-15T07:36:01.279141Z",
     "shell.execute_reply": "2023-05-15T07:36:01.278154Z",
     "shell.execute_reply.started": "2023-05-15T07:35:51.827929Z"
    }
   },
   "outputs": [
    {
     "name": "stderr",
     "output_type": "stream",
     "text": [
      "/opt/conda/lib/python3.10/site-packages/scipy/__init__.py:146: UserWarning: A NumPy version >=1.16.5 and <1.23.0 is required for this version of SciPy (detected version 1.23.5\n",
      "  warnings.warn(f\"A NumPy version >={np_minversion} and <{np_maxversion}\"\n"
     ]
    }
   ],
   "source": [
    "import pandas as pd\n",
    "import numpy as np\n",
    "import zipfile\n",
    "from keras.preprocessing.text import Tokenizer\n",
    "import tensorflow as tf\n",
    "from tensorflow import keras\n",
    "from tensorflow.keras import layers\n",
    "from tensorflow.keras.models import Sequential\n",
    "from tensorflow.keras.layers import Dense, SimpleRNN, TextVectorization\n",
    "from tensorflow.keras.preprocessing.sequence import pad_sequences\n",
    "import optuna\n",
    "import pathlib\n",
    "import random\n",
    "import string\n",
    "import re\n",
    "import matplotlib.pyplot as plt\n",
    "from tensorflow.keras.callbacks import EarlyStopping, ReduceLROnPlateau, Callback\n",
    "from IPython.display import clear_output\n",
    "from sklearn.model_selection import GridSearchCV\n",
    "from sklearn.metrics import roc_curve\n",
    "from sklearn.metrics import confusion_matrix\n",
    "from nltk.translate.bleu_score import sentence_bleu\n",
    "from sklearn.metrics import roc_curve\n",
    "from collections import Counter\n",
    "from sklearn.model_selection import train_test_split\n",
    "import plotly.express as px\n",
    "from nltk.corpus import stopwords"
   ]
  },
  {
   "cell_type": "markdown",
   "id": "425a01d4",
   "metadata": {},
   "source": [
    "## 1.1. Carga y visualizacion de los datos (2 puntos)\n",
    "\n",
    "<div style=\"background-color: #EDF7FF; border-color: #7C9DBF; border-left: 5px solid #7C9DBF; padding: 0.5em;\">\n",
    "<p><strong>Ejercicio [0,5 pts.]:</strong> Descarga la base de datos, cargalá con Python, aleatoriza el orden de las filas del dataset y realiza un histograma del número de tweets positivos y tweets negativos.</p>\n",
    "</div>"
   ]
  },
  {
   "cell_type": "code",
   "execution_count": 2,
   "id": "dcac9b5e",
   "metadata": {
    "execution": {
     "iopub.execute_input": "2023-05-15T07:36:01.282669Z",
     "iopub.status.busy": "2023-05-15T07:36:01.282311Z",
     "iopub.status.idle": "2023-05-15T07:36:08.772715Z",
     "shell.execute_reply": "2023-05-15T07:36:08.771867Z",
     "shell.execute_reply.started": "2023-05-15T07:36:01.282634Z"
    }
   },
   "outputs": [
    {
     "data": {
      "text/html": [
       "<div>\n",
       "<style scoped>\n",
       "    .dataframe tbody tr th:only-of-type {\n",
       "        vertical-align: middle;\n",
       "    }\n",
       "\n",
       "    .dataframe tbody tr th {\n",
       "        vertical-align: top;\n",
       "    }\n",
       "\n",
       "    .dataframe thead th {\n",
       "        text-align: right;\n",
       "    }\n",
       "</style>\n",
       "<table border=\"1\" class=\"dataframe\">\n",
       "  <thead>\n",
       "    <tr style=\"text-align: right;\">\n",
       "      <th></th>\n",
       "      <th>target</th>\n",
       "      <th>ids</th>\n",
       "      <th>date</th>\n",
       "      <th>flag</th>\n",
       "      <th>user</th>\n",
       "      <th>text</th>\n",
       "    </tr>\n",
       "  </thead>\n",
       "  <tbody>\n",
       "    <tr>\n",
       "      <th>0</th>\n",
       "      <td>4</td>\n",
       "      <td>1962417051</td>\n",
       "      <td>Fri May 29 11:00:49 PDT 2009</td>\n",
       "      <td>NO_QUERY</td>\n",
       "      <td>THISISRUSSIA</td>\n",
       "      <td>#Follow Friday @montill @djaaries @karimaDaCro...</td>\n",
       "    </tr>\n",
       "    <tr>\n",
       "      <th>1</th>\n",
       "      <td>0</td>\n",
       "      <td>2058406505</td>\n",
       "      <td>Sat Jun 06 14:52:46 PDT 2009</td>\n",
       "      <td>NO_QUERY</td>\n",
       "      <td>janetski</td>\n",
       "      <td>@kirstiealley hollands' here too, but u just k...</td>\n",
       "    </tr>\n",
       "    <tr>\n",
       "      <th>2</th>\n",
       "      <td>4</td>\n",
       "      <td>1956002572</td>\n",
       "      <td>Thu May 28 21:00:23 PDT 2009</td>\n",
       "      <td>NO_QUERY</td>\n",
       "      <td>micahlynnr</td>\n",
       "      <td>just booked a flight to detroit to meet the bf...</td>\n",
       "    </tr>\n",
       "    <tr>\n",
       "      <th>3</th>\n",
       "      <td>0</td>\n",
       "      <td>2256762264</td>\n",
       "      <td>Sat Jun 20 13:15:57 PDT 2009</td>\n",
       "      <td>NO_QUERY</td>\n",
       "      <td>Karayna</td>\n",
       "      <td>Stephanie Sun's songs always make me feel so s...</td>\n",
       "    </tr>\n",
       "    <tr>\n",
       "      <th>4</th>\n",
       "      <td>4</td>\n",
       "      <td>2064671862</td>\n",
       "      <td>Sun Jun 07 06:53:13 PDT 2009</td>\n",
       "      <td>NO_QUERY</td>\n",
       "      <td>Beeccaax3</td>\n",
       "      <td>On the bus</td>\n",
       "    </tr>\n",
       "  </tbody>\n",
       "</table>\n",
       "</div>"
      ],
      "text/plain": [
       "   target         ids                          date      flag          user  \\\n",
       "0       4  1962417051  Fri May 29 11:00:49 PDT 2009  NO_QUERY  THISISRUSSIA   \n",
       "1       0  2058406505  Sat Jun 06 14:52:46 PDT 2009  NO_QUERY      janetski   \n",
       "2       4  1956002572  Thu May 28 21:00:23 PDT 2009  NO_QUERY    micahlynnr   \n",
       "3       0  2256762264  Sat Jun 20 13:15:57 PDT 2009  NO_QUERY       Karayna   \n",
       "4       4  2064671862  Sun Jun 07 06:53:13 PDT 2009  NO_QUERY     Beeccaax3   \n",
       "\n",
       "                                                text  \n",
       "0  #Follow Friday @montill @djaaries @karimaDaCro...  \n",
       "1  @kirstiealley hollands' here too, but u just k...  \n",
       "2  just booked a flight to detroit to meet the bf...  \n",
       "3  Stephanie Sun's songs always make me feel so s...  \n",
       "4                                        On the bus   "
      ]
     },
     "execution_count": 2,
     "metadata": {},
     "output_type": "execute_result"
    }
   ],
   "source": [
    "# Cargar el conjunto de datos Sentiment 140\n",
    "df = pd.read_csv(\"/kaggle/input/sentiment140/training.1600000.processed.noemoticon.csv\", encoding='ISO-8859-1', header=None)\n",
    "\n",
    "# Asignar nombres de columna\n",
    "df.columns = [\"target\", \"ids\", \"date\", \"flag\", \"user\", \"text\"]\n",
    "\n",
    "# Aleatorizar el orden de las filas\n",
    "df = df.sample(frac=1).reset_index(drop=True)\n",
    "\n",
    "# Mostrar los primeros datos\n",
    "df.head()"
   ]
  },
  {
   "cell_type": "code",
   "execution_count": 3,
   "id": "bd4d1215",
   "metadata": {
    "execution": {
     "iopub.execute_input": "2023-05-15T07:36:08.775910Z",
     "iopub.status.busy": "2023-05-15T07:36:08.775616Z",
     "iopub.status.idle": "2023-05-15T07:36:09.002341Z",
     "shell.execute_reply": "2023-05-15T07:36:09.001175Z",
     "shell.execute_reply.started": "2023-05-15T07:36:08.775885Z"
    }
   },
   "outputs": [
    {
     "name": "stdout",
     "output_type": "stream",
     "text": [
      "4    800000\n",
      "0    800000\n",
      "Name: target, dtype: int64\n"
     ]
    },
    {
     "data": {
      "image/png": "[encoded data removed]",
      "text/plain": [
       "<Figure size 640x480 with 1 Axes>"
      ]
     },
     "metadata": {},
     "output_type": "display_data"
    }
   ],
   "source": [
    "# contar el número de tweets positivos y negativos\n",
    "counts = df['target'].value_counts()\n",
    "print(counts)\n",
    "\n",
    "# crear el histograma\n",
    "plt.bar(counts.index, counts.values)\n",
    "plt.xlabel('Sentimiento')\n",
    "plt.ylabel('Número de tweets')\n",
    "plt.xticks([0, 4], ['Negativo', 'Positivo'])\n",
    "plt.show()"
   ]
  },
  {
   "cell_type": "markdown",
   "id": "c362abfd",
   "metadata": {},
   "source": [
    "## 1.2. Visualización de los tweets y procesado del texto\n",
    "\n",
    "<div style=\"background-color: #EDF7FF; border-color: #7C9DBF; border-left: 5px solid #7C9DBF; padding: 0.5em;\">\n",
    "<p><strong>Ejercicio [0,5 pts.]:</strong> Muesta 5 tweets distintos, comprobarás que aparecen símbolos de puntuación, palabras en minúsculas o mayúsculas, etc. Realiza una limpieza y estandarización preliminar de todo el texto y luego cuenta las veces que aparece cada palabra y ordenálas. A la palabra que más veces aparece se le asigna el número 1, la siguiente el 2, etc. Representa en escala logarítmica la frequencia de apareción versus el número asignado.</p>\n",
    "</div>"
   ]
  },
  {
   "cell_type": "code",
   "execution_count": 4,
   "id": "a1cc0696",
   "metadata": {
    "execution": {
     "iopub.execute_input": "2023-05-15T07:36:09.005886Z",
     "iopub.status.busy": "2023-05-15T07:36:09.005211Z",
     "iopub.status.idle": "2023-05-15T07:36:09.068709Z",
     "shell.execute_reply": "2023-05-15T07:36:09.067641Z",
     "shell.execute_reply.started": "2023-05-15T07:36:09.005845Z"
    }
   },
   "outputs": [
    {
     "name": "stdout",
     "output_type": "stream",
     "text": [
      "Mostrar 5 tweets distintos originales\n",
      "1256442    3852 songs down, only 148 left. It only took m...\n",
      "136055     @Mayra326 aww, have fun!  I just had my 3D las...\n",
      "596802     is soooo tired after a busy weekend with becky...\n",
      "828385     @KimBlairwitch - no sorry, busy editing anothe...\n",
      "538031                   at the #Vodafone #MobileWidgetCamp \n",
      "Name: text, dtype: object\n"
     ]
    }
   ],
   "source": [
    "# Mostrar 5 tweets distintos\n",
    "print(\"Mostrar 5 tweets distintos originales\")\n",
    "print(df[\"text\"].sample(5))"
   ]
  },
  {
   "cell_type": "code",
   "execution_count": 5,
   "id": "20fa3ae0",
   "metadata": {
    "execution": {
     "iopub.execute_input": "2023-05-15T07:36:09.071008Z",
     "iopub.status.busy": "2023-05-15T07:36:09.070135Z",
     "iopub.status.idle": "2023-05-15T07:36:09.084034Z",
     "shell.execute_reply": "2023-05-15T07:36:09.082935Z",
     "shell.execute_reply.started": "2023-05-15T07:36:09.070978Z"
    }
   },
   "outputs": [],
   "source": [
    "# Importamos los StopWords y añadimos otros signos\n",
    "stop_words = stopwords.words('english')\n",
    "stop_words = [re.sub(r'[^a-zA-Z ]+', '', x) for x in stop_words]\n",
    "\n",
    "# Función para limpiar texto\n",
    "def limpieza_estandarizacion(texto):\n",
    "    texto = re.sub(r'[^a-zA-Z ]+', '', texto).lower().split(\" \")\n",
    "    texto_filtrado = [palabra for palabra in texto if palabra not in stop_words]\n",
    "    \n",
    "    return (\" \").join(texto_filtrado)"
   ]
  },
  {
   "cell_type": "code",
   "execution_count": 6,
   "id": "0f8c3483",
   "metadata": {
    "execution": {
     "iopub.execute_input": "2023-05-15T07:36:09.086442Z",
     "iopub.status.busy": "2023-05-15T07:36:09.085933Z",
     "iopub.status.idle": "2023-05-15T07:37:09.704157Z",
     "shell.execute_reply": "2023-05-15T07:37:09.703215Z",
     "shell.execute_reply.started": "2023-05-15T07:36:09.086405Z"
    }
   },
   "outputs": [],
   "source": [
    "# Aplicar la función de limpieza al texto\n",
    "df['text'] = df['text'].apply(lambda x: limpieza_estandarizacion(x))"
   ]
  },
  {
   "cell_type": "code",
   "execution_count": 7,
   "id": "c0a074f1",
   "metadata": {
    "execution": {
     "iopub.execute_input": "2023-05-15T07:37:09.706028Z",
     "iopub.status.busy": "2023-05-15T07:37:09.705673Z",
     "iopub.status.idle": "2023-05-15T07:37:09.762661Z",
     "shell.execute_reply": "2023-05-15T07:37:09.761425Z",
     "shell.execute_reply.started": "2023-05-15T07:37:09.705997Z"
    }
   },
   "outputs": [
    {
     "name": "stdout",
     "output_type": "stream",
     "text": [
      "\n",
      "\n",
      "Mostrar 5 tweets distintos limpios\n",
      "30338      techau clicked link top right bing front page ...\n",
      "1314097                           window shopping internets \n",
      "463252                                      wish california \n",
      "169705                                          ihaveissues \n",
      "283707             homeward bound open road  beautiful fave \n",
      "Name: text, dtype: object\n"
     ]
    }
   ],
   "source": [
    "# Mostrar 5 tweets distintos limpios\n",
    "print(\"\\n\\nMostrar 5 tweets distintos limpios\")\n",
    "print(df[\"text\"].sample(5))"
   ]
  },
  {
   "cell_type": "code",
   "execution_count": 8,
   "id": "2553bc51",
   "metadata": {
    "execution": {
     "iopub.execute_input": "2023-05-15T07:37:09.764786Z",
     "iopub.status.busy": "2023-05-15T07:37:09.764401Z",
     "iopub.status.idle": "2023-05-15T07:37:28.401682Z",
     "shell.execute_reply": "2023-05-15T07:37:28.400666Z",
     "shell.execute_reply.started": "2023-05-15T07:37:09.764751Z"
    }
   },
   "outputs": [
    {
     "data": {
      "text/html": [
       "<div>\n",
       "<style scoped>\n",
       "    .dataframe tbody tr th:only-of-type {\n",
       "        vertical-align: middle;\n",
       "    }\n",
       "\n",
       "    .dataframe tbody tr th {\n",
       "        vertical-align: top;\n",
       "    }\n",
       "\n",
       "    .dataframe thead th {\n",
       "        text-align: right;\n",
       "    }\n",
       "</style>\n",
       "<table border=\"1\" class=\"dataframe\">\n",
       "  <thead>\n",
       "    <tr style=\"text-align: right;\">\n",
       "      <th></th>\n",
       "      <th>0</th>\n",
       "      <th>numero</th>\n",
       "    </tr>\n",
       "  </thead>\n",
       "  <tbody>\n",
       "    <tr>\n",
       "      <th>im</th>\n",
       "      <td>178365</td>\n",
       "      <td>1</td>\n",
       "    </tr>\n",
       "    <tr>\n",
       "      <th>good</th>\n",
       "      <td>89420</td>\n",
       "      <td>2</td>\n",
       "    </tr>\n",
       "    <tr>\n",
       "      <th>day</th>\n",
       "      <td>84818</td>\n",
       "      <td>3</td>\n",
       "    </tr>\n",
       "    <tr>\n",
       "      <th>get</th>\n",
       "      <td>81599</td>\n",
       "      <td>4</td>\n",
       "    </tr>\n",
       "    <tr>\n",
       "      <th>like</th>\n",
       "      <td>77780</td>\n",
       "      <td>5</td>\n",
       "    </tr>\n",
       "  </tbody>\n",
       "</table>\n",
       "</div>"
      ],
      "text/plain": [
       "           0  numero\n",
       "im    178365       1\n",
       "good   89420       2\n",
       "day    84818       3\n",
       "get    81599       4\n",
       "like   77780       5"
      ]
     },
     "execution_count": 8,
     "metadata": {},
     "output_type": "execute_result"
    }
   ],
   "source": [
    "# Contar las palabras y ordenarlas\n",
    "serie = df.text.str.split(expand=True).stack().value_counts().to_frame()\n",
    "serie['numero'] = serie.reset_index().index+1\n",
    "serie.head()"
   ]
  },
  {
   "cell_type": "code",
   "execution_count": 9,
   "id": "14e8726c",
   "metadata": {
    "execution": {
     "iopub.execute_input": "2023-05-15T07:37:28.405444Z",
     "iopub.status.busy": "2023-05-15T07:37:28.403164Z",
     "iopub.status.idle": "2023-05-15T07:37:30.721957Z",
     "shell.execute_reply": "2023-05-15T07:37:30.720897Z",
     "shell.execute_reply.started": "2023-05-15T07:37:28.405408Z"
    }
   },
   "outputs": [
    {
     "data": {
      "image/png": "[encoded data removed]",
      "text/plain": [
       "<Figure size 1000x600 with 1 Axes>"
      ]
     },
     "metadata": {},
     "output_type": "display_data"
    }
   ],
   "source": [
    "# Representar la frecuencia de aparición en escala logarítmica\n",
    "plt.figure(figsize=(10,6))\n",
    "plt.plot(serie['numero'], \n",
    "         [np.log10(word) for word in serie[0]])\n",
    "plt.xlabel(\"Palabra\")\n",
    "plt.ylabel(\"Log Frecuencia\")\n",
    "plt.title(\"Palabra - Log10 Frecuencia\")\n",
    "plt.show()"
   ]
  },
  {
   "cell_type": "markdown",
   "id": "bc1b8d4c",
   "metadata": {},
   "source": [
    "## 1.3. Procesado de las etiquetas y tokenización\n",
    "\n",
    "<div style=\"background-color: #EDF7FF; border-color: #7C9DBF; border-left: 5px solid #7C9DBF; padding: 0.5em;\">\n",
    "<p><strong>Ejercicio [0,5 pts.]:</strong> Como habrás observado, el lenguaje natural está muy desbalanceado, unas pocas palabras aparecen muchas veces y muchas palabras aparecen en pocas ocasiones. Esta información la tendremos en cuenta para construir posteriormente nuestros vocabulario de tokens, descartando palabras que aparecen poco.\n",
    "    \n",
    "Ahora nos vamos a quedar únicamente 20000 frases de todo el dataset. Las etiquetas han de ser convertidas al formato adecuado y se procesaran los textos para obtenerlos en forma de tokens con la función Tokenizer de Tensorflow. Muestra un ejemplo de una frase tokenizada y decodificada de nuevo.\n",
    "\n",
    "</div>"
   ]
  },
  {
   "cell_type": "code",
   "execution_count": 10,
   "id": "5e514d7c",
   "metadata": {
    "execution": {
     "iopub.execute_input": "2023-05-15T07:37:30.725907Z",
     "iopub.status.busy": "2023-05-15T07:37:30.725605Z",
     "iopub.status.idle": "2023-05-15T07:37:31.188451Z",
     "shell.execute_reply": "2023-05-15T07:37:31.187471Z",
     "shell.execute_reply.started": "2023-05-15T07:37:30.725882Z"
    }
   },
   "outputs": [
    {
     "data": {
      "text/html": [
       "<div>\n",
       "<style scoped>\n",
       "    .dataframe tbody tr th:only-of-type {\n",
       "        vertical-align: middle;\n",
       "    }\n",
       "\n",
       "    .dataframe tbody tr th {\n",
       "        vertical-align: top;\n",
       "    }\n",
       "\n",
       "    .dataframe thead th {\n",
       "        text-align: right;\n",
       "    }\n",
       "</style>\n",
       "<table border=\"1\" class=\"dataframe\">\n",
       "  <thead>\n",
       "    <tr style=\"text-align: right;\">\n",
       "      <th></th>\n",
       "      <th>index</th>\n",
       "      <th>target</th>\n",
       "      <th>ids</th>\n",
       "      <th>date</th>\n",
       "      <th>flag</th>\n",
       "      <th>user</th>\n",
       "      <th>text</th>\n",
       "    </tr>\n",
       "  </thead>\n",
       "  <tbody>\n",
       "    <tr>\n",
       "      <th>0</th>\n",
       "      <td>54479</td>\n",
       "      <td>4</td>\n",
       "      <td>2001042508</td>\n",
       "      <td>Mon Jun 01 23:40:30 PDT 2009</td>\n",
       "      <td>NO_QUERY</td>\n",
       "      <td>iamvenice</td>\n",
       "      <td>uploading music multiply account love ladygaga...</td>\n",
       "    </tr>\n",
       "    <tr>\n",
       "      <th>1</th>\n",
       "      <td>1066087</td>\n",
       "      <td>4</td>\n",
       "      <td>1753789783</td>\n",
       "      <td>Sun May 10 03:27:49 PDT 2009</td>\n",
       "      <td>NO_QUERY</td>\n",
       "      <td>sugardayfox</td>\n",
       "      <td>launch make break alpha phase residential rea...</td>\n",
       "    </tr>\n",
       "    <tr>\n",
       "      <th>2</th>\n",
       "      <td>24101</td>\n",
       "      <td>0</td>\n",
       "      <td>1759420222</td>\n",
       "      <td>Sun May 10 19:10:23 PDT 2009</td>\n",
       "      <td>NO_QUERY</td>\n",
       "      <td>mari8790</td>\n",
       "      <td>headache  happy mothers day  last night iiinsane</td>\n",
       "    </tr>\n",
       "    <tr>\n",
       "      <th>3</th>\n",
       "      <td>844592</td>\n",
       "      <td>0</td>\n",
       "      <td>2063238467</td>\n",
       "      <td>Sun Jun 07 01:52:44 PDT 2009</td>\n",
       "      <td>NO_QUERY</td>\n",
       "      <td>emeelgoesww</td>\n",
       "      <td>tabbytabby uhm well nl wed come back arhus sat...</td>\n",
       "    </tr>\n",
       "    <tr>\n",
       "      <th>4</th>\n",
       "      <td>154947</td>\n",
       "      <td>0</td>\n",
       "      <td>2298234552</td>\n",
       "      <td>Tue Jun 23 11:25:26 PDT 2009</td>\n",
       "      <td>NO_QUERY</td>\n",
       "      <td>iluvoltl</td>\n",
       "      <td>watching oltl think starr cloe r</td>\n",
       "    </tr>\n",
       "  </tbody>\n",
       "</table>\n",
       "</div>"
      ],
      "text/plain": [
       "     index  target         ids                          date      flag  \\\n",
       "0    54479       4  2001042508  Mon Jun 01 23:40:30 PDT 2009  NO_QUERY   \n",
       "1  1066087       4  1753789783  Sun May 10 03:27:49 PDT 2009  NO_QUERY   \n",
       "2    24101       0  1759420222  Sun May 10 19:10:23 PDT 2009  NO_QUERY   \n",
       "3   844592       0  2063238467  Sun Jun 07 01:52:44 PDT 2009  NO_QUERY   \n",
       "4   154947       0  2298234552  Tue Jun 23 11:25:26 PDT 2009  NO_QUERY   \n",
       "\n",
       "          user                                               text  \n",
       "0    iamvenice  uploading music multiply account love ladygaga...  \n",
       "1  sugardayfox   launch make break alpha phase residential rea...  \n",
       "2     mari8790   headache  happy mothers day  last night iiinsane  \n",
       "3  emeelgoesww  tabbytabby uhm well nl wed come back arhus sat...  \n",
       "4     iluvoltl                 watching oltl think starr cloe r    "
      ]
     },
     "execution_count": 10,
     "metadata": {},
     "output_type": "execute_result"
    }
   ],
   "source": [
    "# Seleccionar 20000 frases\n",
    "df_lite = df.sample(20000).reset_index().copy()\n",
    "df_lite.head()"
   ]
  },
  {
   "cell_type": "code",
   "execution_count": 11,
   "id": "2b0be0c4",
   "metadata": {
    "execution": {
     "iopub.execute_input": "2023-05-15T07:37:31.190508Z",
     "iopub.status.busy": "2023-05-15T07:37:31.189948Z",
     "iopub.status.idle": "2023-05-15T07:37:31.211538Z",
     "shell.execute_reply": "2023-05-15T07:37:31.210635Z",
     "shell.execute_reply.started": "2023-05-15T07:37:31.190473Z"
    }
   },
   "outputs": [],
   "source": [
    "# Convertir etiquetas\n",
    "df_lite['target'] = df_lite['target'].apply(lambda x: 1 if x==4 else 0)"
   ]
  },
  {
   "cell_type": "code",
   "execution_count": 12,
   "id": "0f7250ea",
   "metadata": {
    "execution": {
     "iopub.execute_input": "2023-05-15T07:37:31.213567Z",
     "iopub.status.busy": "2023-05-15T07:37:31.213163Z",
     "iopub.status.idle": "2023-05-15T07:37:31.865435Z",
     "shell.execute_reply": "2023-05-15T07:37:31.864474Z",
     "shell.execute_reply.started": "2023-05-15T07:37:31.213529Z"
    }
   },
   "outputs": [
    {
     "name": "stdout",
     "output_type": "stream",
     "text": [
      "Texto original:  epikurean sweet ill sure catch seen hp films imax \n",
      "Texto tokenizado:  [14444, 273, 34, 96, 530, 263, 3226, 3056, 14445]\n",
      "Texto decodificado:  ['epikurean sweet ill sure catch seen hp films imax']\n"
     ]
    }
   ],
   "source": [
    "# Tokenizar textos\n",
    "tokenizer = Tokenizer()\n",
    "tokenizer.fit_on_texts(df_lite['text'])\n",
    "sequences = tokenizer.texts_to_sequences(df_lite['text'])\n",
    "\n",
    "# Mostrar ejemplo\n",
    "ej = random.randint(0, len(df_lite)-1)\n",
    "example = sequences[ej]\n",
    "print(\"Texto original: \", df_lite['text'].iloc[ej])\n",
    "print(\"Texto tokenizado: \", example)\n",
    "print(\"Texto decodificado: \", tokenizer.sequences_to_texts([example]))"
   ]
  },
  {
   "cell_type": "markdown",
   "id": "913f753b",
   "metadata": {},
   "source": [
    "## 1.4. Partición de los datos\n",
    "\n",
    "<div style=\"background-color: #EDF7FF; border-color: #7C9DBF; border-left: 5px solid #7C9DBF; padding: 0.5em;\">\n",
    "<p><strong>Ejercicio [0,5 pts.]:</strong> Finalmente deja un 80% de los datos para train y el resto para test. Únicamente se utilizaran 3000 tokens distintos.</div>\n",
    "\n",
    "Utiliza la función `tf.keras.utils.pad_sequences` para normalizar el tamaño de todas los mensajes tokenizados. El tamaño final será el tamaño del mensaje más largo. Muestra un ejemplo de una frase una vez que se ha aplicado esta función."
   ]
  },
  {
   "cell_type": "code",
   "execution_count": 13,
   "id": "403fb7ce",
   "metadata": {
    "execution": {
     "iopub.execute_input": "2023-05-15T07:37:31.867501Z",
     "iopub.status.busy": "2023-05-15T07:37:31.866902Z",
     "iopub.status.idle": "2023-05-15T07:37:32.867457Z",
     "shell.execute_reply": "2023-05-15T07:37:32.866460Z",
     "shell.execute_reply.started": "2023-05-15T07:37:31.867465Z"
    }
   },
   "outputs": [],
   "source": [
    "# Calcular los índices para cada subconjunto\n",
    "train_index = int(len(df_lite) * 0.8)\n",
    "\n",
    "# Dividir los datos en los subconjuntos\n",
    "xl = df_lite['text']\n",
    "yl = df_lite['target']\n",
    "X_train = xl[:train_index]\n",
    "X_test = xl[train_index:]\n",
    "y_train = yl[:train_index]\n",
    "y_test = yl[train_index:]\n",
    "\n",
    "# Crea el Tokenizer\n",
    "tokenizer = Tokenizer(num_words=3000)\n",
    "tokenizer.fit_on_texts(X_train)\n",
    "\n",
    "# Tokeniza los textos\n",
    "X_train_seq = tokenizer.texts_to_sequences(X_train)\n",
    "X_test_seq = tokenizer.texts_to_sequences(X_test)\n",
    "\n",
    "# Normaliza la longitud de los mensajes\n",
    "maxlen  = max([len(x) for x in X_train_seq])\n",
    "X_train_seq_padded = pad_sequences(X_train_seq, maxlen=maxlen , padding='post')\n",
    "X_test_seq_padded = pad_sequences(X_test_seq, maxlen=maxlen , padding='post')"
   ]
  },
  {
   "cell_type": "code",
   "execution_count": 14,
   "id": "df704794",
   "metadata": {
    "execution": {
     "iopub.execute_input": "2023-05-15T07:37:32.869089Z",
     "iopub.status.busy": "2023-05-15T07:37:32.868724Z",
     "iopub.status.idle": "2023-05-15T07:37:32.878446Z",
     "shell.execute_reply": "2023-05-15T07:37:32.876370Z",
     "shell.execute_reply.started": "2023-05-15T07:37:32.869056Z"
    }
   },
   "outputs": [
    {
     "name": "stdout",
     "output_type": "stream",
     "text": [
      "Texto original:\n",
      " uploading music multiply account love ladygagas music \n",
      "\n",
      "Texto tokenizado:\n",
      " [1336, 162, 678, 9, 162]\n",
      "\n",
      "Texto tokenizado y normalizado:\n",
      " [1336  162  678    9  162    0    0    0    0    0    0    0    0    0\n",
      "    0    0    0    0    0]\n",
      "Texto decodificado:  ['uploading music account love music']\n"
     ]
    }
   ],
   "source": [
    "# Muestra un ejemplo de una frase una vez que se ha aplicado la función pad_sequences\n",
    "print('Texto original:\\n', X_train.iloc[0])\n",
    "print('\\nTexto tokenizado:\\n', X_train_seq[0])\n",
    "print('\\nTexto tokenizado y normalizado:\\n', X_train_seq_padded[0])\n",
    "print(\"Texto decodificado: \", tokenizer.sequences_to_texts([X_train_seq[0]]))"
   ]
  },
  {
   "cell_type": "markdown",
   "id": "a8abbe1f",
   "metadata": {},
   "source": [
    "# 2. Clasificación de tweets (4 puntos)\n",
    "\n",
    "## 2.1 Entrenando el modelo con una RNN o LSTM\n",
    "\n"
   ]
  },
  {
   "cell_type": "markdown",
   "id": "04427ac1",
   "metadata": {},
   "source": [
    "\n",
    "<div style=\"background-color: #EDF7FF; border-color: #7C9DBF; border-left: 5px solid #7C9DBF; padding: 0.5em;\">\n",
    "<p><strong>Ejercicio [1 pt.]:</strong> Utilizando los conocimientos adquiridos hasta ahora, entrenar un modelo de análisis de sentimientos con con una RNN o LSTM. Se proporciona la capa de entrada para facilitar el procesado de los tokens. Representar la accuracy durante el entrenamiento y durante la validación.\n",
    "Varía los parámetros o la configuración de la red para mejorar el resultado. Finalmente, muestra el mejor resultado obtenido sobre test.\n",
    "</div>\n"
   ]
  },
  {
   "cell_type": "code",
   "execution_count": 15,
   "id": "86f1625d",
   "metadata": {
    "execution": {
     "iopub.execute_input": "2023-05-15T07:37:32.880048Z",
     "iopub.status.busy": "2023-05-15T07:37:32.879677Z",
     "iopub.status.idle": "2023-05-15T07:37:32.889626Z",
     "shell.execute_reply": "2023-05-15T07:37:32.888527Z",
     "shell.execute_reply.started": "2023-05-15T07:37:32.880015Z"
    }
   },
   "outputs": [],
   "source": [
    "# Esta capa se proporciona para facilitar la tarea.\n",
    "class TokenAndPositionEmbedding(layers.Layer):\n",
    "    def __init__(self, maxlen, vocab_size, embed_dim):\n",
    "        super().__init__()\n",
    "        self.token_emb = layers.Embedding(input_dim=vocab_size, output_dim=embed_dim)\n",
    "        self.pos_emb = layers.Embedding(input_dim=maxlen, output_dim=embed_dim)\n",
    "\n",
    "    def call(self, x):\n",
    "        maxlen = tf.shape(x)[-1]\n",
    "        positions = tf.range(start=0, limit=maxlen, delta=1)\n",
    "        positions = self.pos_emb(positions)\n",
    "        x = self.token_emb(x)\n",
    "        return x + positions"
   ]
  },
  {
   "cell_type": "code",
   "execution_count": 16,
   "id": "c1418876",
   "metadata": {
    "execution": {
     "iopub.execute_input": "2023-05-15T07:37:32.891926Z",
     "iopub.status.busy": "2023-05-15T07:37:32.891271Z",
     "iopub.status.idle": "2023-05-15T07:37:32.911002Z",
     "shell.execute_reply": "2023-05-15T07:37:32.909930Z",
     "shell.execute_reply.started": "2023-05-15T07:37:32.891889Z"
    }
   },
   "outputs": [],
   "source": [
    "import time\n",
    "import matplotlib.pyplot as plt\n",
    "from tensorflow.keras.callbacks import Callback\n",
    "\n",
    "#------------------------------#\n",
    "#     CLASES COGIDAS PEC2      #\n",
    "#------------------------------#\n",
    "\n",
    "class TimerCallback(Callback):\n",
    "    def __init__(self):\n",
    "        self.start_time = None\n",
    "        self.epoch_times = []\n",
    "        \n",
    "    def on_train_begin(self, logs=None):\n",
    "        self.start_time = time.time()\n",
    "        \n",
    "    def on_epoch_end(self, epoch, logs=None):\n",
    "        epoch_time = time.time() - self.start_time\n",
    "        self.epoch_times.append(epoch_time)\n",
    "        print(f\"Época {epoch+1} - Tiempo transcurrido: {epoch_time:.2f} segundos\")\n",
    "        \n",
    "    def on_train_end(self, logs=None):\n",
    "        total_time = time.time() - self.start_time\n",
    "        print(f\"Entrenamiento completado en {total_time:.2f} segundos\")\n",
    "        print(f\"Tiempo promedio por época: {sum(self.epoch_times) / len(self.epoch_times):.2f} segundos\")\n",
    "        \n",
    "    def plot_epoch_times(self):\n",
    "        fig, ax = plt.subplots()\n",
    "        ax.plot(range(len(self.epoch_times)), self.epoch_times)\n",
    "        ax.set_xlabel(\"Época\")\n",
    "        ax.set_ylabel(\"Tiempo (s)\")\n",
    "        ax.set_title(\"Historial de tiempo de época\")\n",
    "        plt.show()\n",
    "        \n",
    "    def get_total_time(self):\n",
    "        return time.time() - self.start_time\n",
    "    \n",
    "    \n",
    "    \n",
    "class PlotLearning(Callback):\n",
    "    \"\"\"\n",
    "    Callback para plotear las métricas durante el entrenamiento.\n",
    "    \"\"\"\n",
    "    def __init__(self, showLR=False):\n",
    "      self.showLR = showLR                   # podemos elegir si mostrar o no el plot del learning rate en cada epoch\n",
    "\n",
    "    def on_train_begin(self, logs={}):\n",
    "        self.metrics = {}\n",
    "        for metric in logs:\n",
    "            self.metrics[metric] = []\n",
    "            \n",
    "\n",
    "    def on_epoch_end(self, epoch, logs={}):\n",
    "        for metric in logs:\n",
    "            if metric in self.metrics:\n",
    "                self.metrics[metric].append(logs.get(metric))\n",
    "            else:\n",
    "                self.metrics[metric] = [logs.get(metric)]\n",
    "        \n",
    "        metric = [x for x in logs if ('val' not in x) and ('lr' not in x)]\n",
    "        if self.showLR:\n",
    "          metric.append('lr')\n",
    "        \n",
    "        f, axs = plt.subplots(1,len(metric),figsize=(10,4))\n",
    "        clear_output(wait=True)\n",
    "        for i,ax in enumerate(axs):\n",
    "          ax.plot(range(1, epoch + 2), self.metrics[metric[i]],'o--',label=metric[i])\n",
    "          try:\n",
    "            ax.plot(range(1, epoch + 2), self.metrics['val_' + metric[i]], 'o--', label='val_' + metric[i])\n",
    "          except:\n",
    "            pass\n",
    "          ax.set_xlabel('# epochs')\n",
    "          ax.set_ylabel(metric[i])\n",
    "          ax.legend()\n",
    "          ax.grid()\n",
    "\n",
    "        plt.tight_layout()\n",
    "        plt.show()"
   ]
  },
  {
   "cell_type": "code",
   "execution_count": 23,
   "id": "c884f181",
   "metadata": {
    "execution": {
     "iopub.execute_input": "2023-05-15T07:41:20.362628Z",
     "iopub.status.busy": "2023-05-15T07:41:20.362278Z",
     "iopub.status.idle": "2023-05-15T07:41:20.526431Z",
     "shell.execute_reply": "2023-05-15T07:41:20.525153Z",
     "shell.execute_reply.started": "2023-05-15T07:41:20.362599Z"
    }
   },
   "outputs": [],
   "source": [
    "# Definir los parámetros del modelo\n",
    "maxlen = max([len(x) for x in X_train_seq])\n",
    "vocab_size = 3000\n",
    "embed_dim = 128\n",
    "lstm_size = 64\n",
    "batch_size = 32\n",
    "epochs = 100"
   ]
  },
  {
   "cell_type": "code",
   "execution_count": 34,
   "id": "285d4f3c",
   "metadata": {
    "execution": {
     "iopub.execute_input": "2023-05-15T06:14:18.831143Z",
     "iopub.status.busy": "2023-05-15T06:14:18.830714Z",
     "iopub.status.idle": "2023-05-15T06:14:22.121191Z",
     "shell.execute_reply": "2023-05-15T06:14:22.120174Z",
     "shell.execute_reply.started": "2023-05-15T06:14:18.831110Z"
    }
   },
   "outputs": [],
   "source": [
    "# Crear la capa de entrada del modelo\n",
    "inputs = layers.Input(shape=(maxlen,))\n",
    "\n",
    "# Crear una capa de embedding\n",
    "embedding_layer = TokenAndPositionEmbedding(maxlen, vocab_size, embed_dim)\n",
    "x = embedding_layer(inputs)\n",
    "\n",
    "# Crear una capa LSTM\n",
    "x = layers.LSTM(64, return_sequences=True)(x)\n",
    "\n",
    "# Crear una capa LSTM\n",
    "x = layers.LSTM(128, return_sequences=True)(x)\n",
    "\n",
    "# Añadir Dropout\n",
    "x = layers.Dropout(0.2)(x)\n",
    "\n",
    "# Añadir una capa densa para clasificar la salida\n",
    "outputs = layers.Dense(1, activation='sigmoid')(x)\n",
    "\n",
    "# Crear el modelo\n",
    "model = keras.Model(inputs=inputs, outputs=outputs)"
   ]
  },
  {
   "cell_type": "code",
   "execution_count": 35,
   "id": "74430a00",
   "metadata": {
    "execution": {
     "iopub.execute_input": "2023-05-15T06:14:32.400772Z",
     "iopub.status.busy": "2023-05-15T06:14:32.400405Z",
     "iopub.status.idle": "2023-05-15T06:14:32.421372Z",
     "shell.execute_reply": "2023-05-15T06:14:32.420394Z",
     "shell.execute_reply.started": "2023-05-15T06:14:32.400741Z"
    },
    "scrolled": true
   },
   "outputs": [],
   "source": [
    "# Compilar el modelo\n",
    "model.compile(loss='binary_crossentropy', optimizer='adam', metrics=['binary_accuracy'])"
   ]
  },
  {
   "cell_type": "code",
   "execution_count": 36,
   "id": "44dd23ae",
   "metadata": {
    "execution": {
     "iopub.execute_input": "2023-05-15T06:14:38.192358Z",
     "iopub.status.busy": "2023-05-15T06:14:38.191884Z",
     "iopub.status.idle": "2023-05-15T06:14:38.202275Z",
     "shell.execute_reply": "2023-05-15T06:14:38.201306Z",
     "shell.execute_reply.started": "2023-05-15T06:14:38.192318Z"
    }
   },
   "outputs": [],
   "source": [
    "# Definición de callbacks\n",
    "timer_cb = TimerCallback()\n",
    "plot_cb = PlotLearning()\n",
    "earlystop_cb = EarlyStopping(monitor='val_loss', patience=5, restore_best_weights=True)\n",
    "reducelr_cb = ReduceLROnPlateau(monitor='val_loss', factor=0.5, patience=5)\n",
    "\n",
    "callbacks = [timer_cb, plot_cb, earlystop_cb, reducelr_cb]"
   ]
  },
  {
   "cell_type": "code",
   "execution_count": 37,
   "id": "272c16a5",
   "metadata": {
    "execution": {
     "iopub.execute_input": "2023-05-15T06:14:45.822322Z",
     "iopub.status.busy": "2023-05-15T06:14:45.821959Z",
     "iopub.status.idle": "2023-05-15T06:21:35.854556Z",
     "shell.execute_reply": "2023-05-15T06:21:35.853580Z",
     "shell.execute_reply.started": "2023-05-15T06:14:45.822293Z"
    }
   },
   "outputs": [
    {
     "data": {
      "image/png": "[encoded data removed]",
      "text/plain": [
       "<Figure size 1000x400 with 2 Axes>"
      ]
     },
     "metadata": {},
     "output_type": "display_data"
    },
    {
     "name": "stdout",
     "output_type": "stream",
     "text": [
      "500/500 [==============================] - 4s 7ms/step - loss: 0.0609 - binary_accuracy: 0.9653 - lr: 0.0010\n",
      "Entrenamiento completado en 409.96 segundos\n",
      "Tiempo promedio por época: 217.80 segundos\n"
     ]
    }
   ],
   "source": [
    "history = model.fit(X_train_seq_padded, y_train, batch_size=batch_size, epochs=epochs, callbacks=callbacks)"
   ]
  },
  {
   "cell_type": "code",
   "execution_count": 38,
   "id": "23475aab",
   "metadata": {
    "execution": {
     "iopub.execute_input": "2023-05-15T06:22:42.176669Z",
     "iopub.status.busy": "2023-05-15T06:22:42.175792Z",
     "iopub.status.idle": "2023-05-15T06:22:43.462972Z",
     "shell.execute_reply": "2023-05-15T06:22:43.461967Z",
     "shell.execute_reply.started": "2023-05-15T06:22:42.176632Z"
    }
   },
   "outputs": [
    {
     "name": "stdout",
     "output_type": "stream",
     "text": [
      "125/125 [==============================] - 1s 3ms/step - loss: 3.5112 - binary_accuracy: 0.6407\n",
      "Loss en test: 3.5111818313598633\n",
      "Precisión en test: 0.6406974196434021\n"
     ]
    }
   ],
   "source": [
    "# Evaluación del modelo\n",
    "loss, acc = model.evaluate(X_test_seq_padded, y_test)\n",
    "print(\"Loss en test:\", loss)\n",
    "print(\"Precisión en test:\", acc)"
   ]
  },
  {
   "cell_type": "markdown",
   "id": "aba04ce5",
   "metadata": {},
   "source": [
    "## 2.2 Construye una red con dos capas de atención y entrena el modelo de nuevo\n",
    "\n",
    "<div style=\"background-color: #EDF7FF; border-color: #7C9DBF; border-left: 5px solid #7C9DBF; padding: 0.5em;\">\n",
    "<p><strong>Ejercicio [1 pt.]:</strong> Implementar una arquitectura basada en capas de atención que tendrá la siguiente estructura:\n",
    "    \n",
    "* La entrada primero se convierte a posicional embeddings con la función proporcionada TokenAndPositionEmbedding.\n",
    "* Después habrá una capa MultiHeadAttention, seguida de un dropout y normalizacion\n",
    "* Se añade otra capa MultiHeadAttention, seguida de un dropout y normalizacion.\n",
    "* Despues añadir dos redes full connected, la primera con 32 neuronas y la segunda con 16.\n",
    "* Finalmente añadir una capa de normalizacion, un droput, una capa de GlobalAveragePooling1D\n",
    "    \n",
    "Los dropouts serán del 20%, el numero de cabezas de la red Multihead será de 6\n"
   ]
  },
  {
   "cell_type": "code",
   "execution_count": 24,
   "id": "31dbc7a2",
   "metadata": {
    "execution": {
     "iopub.execute_input": "2023-05-15T07:41:24.757690Z",
     "iopub.status.busy": "2023-05-15T07:41:24.757320Z",
     "iopub.status.idle": "2023-05-15T07:41:27.837940Z",
     "shell.execute_reply": "2023-05-15T07:41:27.836769Z",
     "shell.execute_reply.started": "2023-05-15T07:41:24.757658Z"
    }
   },
   "outputs": [],
   "source": [
    "class Transformer(layers.Layer):\n",
    "    def __init__(self, sizedense, sizedense2, num_heads):\n",
    "        super().__init__()\n",
    "        self.embedding_layer = TokenAndPositionEmbedding(maxlen, vocab_size, embed_dim)\n",
    "        self.attention_layer1 = layers.MultiHeadAttention(num_heads=num_heads, key_dim=embed_dim)\n",
    "        self.dropout_layer1 = layers.Dropout(0.2)\n",
    "        self.normalization_layer1 = layers.LayerNormalization(epsilon=1e-6)\n",
    "        self.attention_layer2 = layers.MultiHeadAttention(num_heads=num_heads, key_dim=embed_dim)\n",
    "        self.dropout_layer2 = layers.Dropout(0.2)\n",
    "        self.normalization_layer2 = layers.LayerNormalization(epsilon=1e-6)\n",
    "        self.dense_layer1 = layers.Dense(sizedense, activation=\"relu\")\n",
    "        self.dense_layer2 = layers.Dense(sizedense2, activation=\"relu\")\n",
    "        self.normalization_layer3 = layers.LayerNormalization(epsilon=1e-6)\n",
    "        self.dropout_layer3 = layers.Dropout(0.2)\n",
    "        self.pooling_layer = layers.GlobalAveragePooling1D()\n",
    "        self.dense_output = layers.Dense(1, activation=\"sigmoid\")\n",
    "\n",
    "    def call(self, inputs, training):\n",
    "        x = self.embedding_layer(inputs)\n",
    "        x = self.attention_layer1(x, x)\n",
    "        x = self.dropout_layer1(x, training=training)\n",
    "        x = self.normalization_layer1(x)\n",
    "        x = self.attention_layer2(x, x)\n",
    "        x = self.dropout_layer2(x, training=training)\n",
    "        x = self.normalization_layer2(x)\n",
    "        x = self.dense_layer1(x)\n",
    "        x = self.dense_layer2(x)\n",
    "        x = self.normalization_layer3(x)\n",
    "        x = self.dropout_layer3(x, training=training)\n",
    "        x = self.pooling_layer(x)\n",
    "        output = self.dense_output(x)\n",
    "        return output\n",
    "\n",
    "sizedense = 32\n",
    "sizedense2 = 16\n",
    "num_heads = 6\n",
    "\n",
    "# Input\n",
    "inputs = layers.Input(shape=(maxlen,))\n",
    "\n",
    "# Create the Transformer model\n",
    "transformer_model = Transformer(sizedense, sizedense2, num_heads)\n",
    "\n",
    "# Obtain the output\n",
    "outputs = transformer_model(inputs, training=False)\n",
    "\n",
    "# Create the model\n",
    "model = tf.keras.Model(inputs=inputs, outputs=outputs)"
   ]
  },
  {
   "cell_type": "markdown",
   "id": "7f2c53b7",
   "metadata": {},
   "source": [
    "<div style=\"background-color: #EDF7FF; border-color: #7C9DBF; border-left: 5px solid #7C9DBF; padding: 0.5em;\">\n",
    "<p><strong>Ejercicio [1 pt.]:</strong> Entrena el modelo anterior probando distintos batch sizes, evitando el overfitting y reportando las metricas de loss y accuracy durante el entrenamiento. Muestra finalmente el mejor resultado obtenido y comenta los resultados en comparación con los obtenidos anteriormente."
   ]
  },
  {
   "cell_type": "code",
   "execution_count": 40,
   "id": "edc53985",
   "metadata": {
    "execution": {
     "iopub.execute_input": "2023-05-15T06:24:13.200504Z",
     "iopub.status.busy": "2023-05-15T06:24:13.199404Z",
     "iopub.status.idle": "2023-05-15T06:26:25.930765Z",
     "shell.execute_reply": "2023-05-15T06:26:25.929547Z",
     "shell.execute_reply.started": "2023-05-15T06:24:13.200455Z"
    }
   },
   "outputs": [
    {
     "data": {
      "image/png": "[encoded data removed]",
      "text/plain": [
       "<Figure size 1000x400 with 2 Axes>"
      ]
     },
     "metadata": {},
     "output_type": "display_data"
    },
    {
     "name": "stdout",
     "output_type": "stream",
     "text": [
      "125/125 [==============================] - 2s 19ms/step - loss: 0.3505 - binary_accuracy: 0.8230 - val_loss: 0.6771 - val_binary_accuracy: 0.7085 - lr: 0.0010\n",
      "Entrenamiento completado en 41.83 segundos\n",
      "Tiempo promedio por época: 30.51 segundos\n",
      "125/125 [==============================] - 1s 4ms/step - loss: 0.5372 - binary_accuracy: 0.7325\n",
      "\n",
      "Mejor resultado obtenido con tamaño de batch 32:\n",
      "Exactitud en el conjunto de validación: 0.7380\n"
     ]
    }
   ],
   "source": [
    "# Función para entrenar el modelo\n",
    "def train_model(model, X_train, y_train, X_val, y_val, batch_size, epochs):\n",
    "    model.compile(optimizer=\"adam\", loss=\"binary_crossentropy\", metrics=[\"binary_accuracy\"])\n",
    "    \n",
    "    # Definición de callbacks\n",
    "    timer_cb = TimerCallback()\n",
    "    plot_cb = PlotLearning()\n",
    "    earlystop_cb = EarlyStopping(monitor='val_loss', patience=5, restore_best_weights=True)\n",
    "    reducelr_cb = ReduceLROnPlateau(monitor='val_loss', factor=0.5, patience=5)\n",
    "\n",
    "    callbacks = [timer_cb, plot_cb, earlystop_cb, reducelr_cb]\n",
    "\n",
    "    history = model.fit(\n",
    "        X_train,\n",
    "        y_train,\n",
    "        batch_size=batch_size,\n",
    "        epochs=epochs,\n",
    "        validation_data=(X_val, y_val),\n",
    "        verbose=1,\n",
    "        callbacks=callbacks\n",
    "    )\n",
    "\n",
    "    return history\n",
    "\n",
    "# Parámetros de entrenamiento\n",
    "batch_sizes = [32, 64, 128]\n",
    "epochs = 100\n",
    "\n",
    "# Listas para almacenar los resultados\n",
    "histories = []\n",
    "val_accuracies = []\n",
    "\n",
    "# Entrenamiento con diferentes tamaños de batch\n",
    "for batch_size in batch_sizes:\n",
    "    print(f\"\\nEntrenando con tamaño de batch: {batch_size}\")\n",
    "    # Crear una nueva instancia del modelo\n",
    "    transformer_model = Transformer(sizedense, sizedense2, num_heads)\n",
    "    model = tf.keras.Model(inputs=inputs, outputs=transformer_model(inputs))\n",
    "    \n",
    "    # Entrenar el modelo\n",
    "    history = train_model(model, X_train_seq_padded, y_train, X_test_seq_padded, y_test, batch_size, epochs)\n",
    "    histories.append(history)\n",
    "\n",
    "    # Evaluar el modelo en el conjunto de validación\n",
    "    _, val_accuracy = model.evaluate(X_test_seq_padded, y_test)\n",
    "    val_accuracies.append(val_accuracy)\n",
    "\n",
    "# Obtener el mejor resultado\n",
    "best_index = np.argmax(val_accuracies)\n",
    "best_batch_size = batch_sizes[best_index]\n",
    "best_history = histories[best_index]\n",
    "best_val_accuracy = val_accuracies[best_index]\n",
    "\n",
    "print(f\"\\nMejor resultado obtenido con tamaño de batch {best_batch_size}:\")\n",
    "print(f\"Exactitud en el conjunto de validación: {best_val_accuracy:.4f}\")"
   ]
  },
  {
   "cell_type": "markdown",
   "id": "3e017df8",
   "metadata": {},
   "source": [
    "<div style=\"background-color: #fcf2f2; border-color: #dfb5b4; border-left: 5px solid #dfb5b4; padding: 0.5em;\">\n",
    "<strong>Comentarios:</strong>\n",
    "<br><br>  \n",
    "Cuando variamos el batch_size nos damos cuenta de que la precisión no varia mucho de uno a otro, pero el mejor ha sido cuando se ha aplicado uno de 32, obteniendo una precisión del 73,8%, lo que es bastante alta para este tipo de problemas.\n",
    "\n",
    "Si comparamos esta precisión con la del modelo LSTM (que es del 64,06%) nos damos que un modelo basado en Transformers es más eficiente.  \n",
    "<br><br>\n",
    "</div>"
   ]
  },
  {
   "cell_type": "markdown",
   "id": "194f438d",
   "metadata": {},
   "source": [
    "## 2.3. Búsqueda de hyperparámetros de la red\n",
    "\n",
    "<div style=\"background-color: #EDF7FF; border-color: #7C9DBF; border-left: 5px solid #7C9DBF; padding: 0.5em;\">\n",
    "<p><strong>Ejercicio [1 pt.]:</strong> Vamos a automatizar la busqueda de hyperparametros mediante un grid search. Para ello vamos a tomar como hyperparámetros el número de heads, el batch size y el número de neuronas de la red fully conected. Para cada uno de estos hyperparámetros elige varios valores representativos y entrena un modelo para cada una de las combinaciones. Como el entrenamiento de la red neuronal no es totalmente determinista y se ha restringido el númerode datos, entrena para la misma configuración al menos 5 modelos y guarda la media del mejor accuracy. Haz una representación gráfica <strong>adecuada y explicativa</strong> con la combinacion de hyperparámetros versus resultados.\n",
    "    \n",
    "La búsqueda de hiperaparámetros y la representación se pueden realizar de forma manual y con librerías habituales o bien utilizar implementaciones específicas para ello como la librería optuna. Si se utiliza está librería se puede realizar una búsqueda bayesiana (sugerencia opcional) de los hiperparámetros en vez de un simple grid search.\n",
    "    \n",
    "Comenta los resultados.\n",
    "</div>\n"
   ]
  },
  {
   "cell_type": "code",
   "execution_count": 42,
   "id": "926a459c",
   "metadata": {
    "execution": {
     "iopub.execute_input": "2023-05-15T06:43:46.491658Z",
     "iopub.status.busy": "2023-05-15T06:43:46.491294Z",
     "iopub.status.idle": "2023-05-15T07:31:56.175359Z",
     "shell.execute_reply": "2023-05-15T07:31:56.174067Z",
     "shell.execute_reply.started": "2023-05-15T06:43:46.491626Z"
    }
   },
   "outputs": [
    {
     "data": {
      "image/png": "[encoded data removed]",
      "text/plain": [
       "<Figure size 1000x400 with 2 Axes>"
      ]
     },
     "metadata": {},
     "output_type": "display_data"
    },
    {
     "name": "stdout",
     "output_type": "stream",
     "text": [
      "125/125 [==============================] - 18s 147ms/step - loss: 0.3790 - binary_accuracy: 0.8122 - val_loss: 0.6994 - val_binary_accuracy: 0.7188 - lr: 0.0010\n",
      "Entrenamiento completado en 129.31 segundos\n",
      "Tiempo promedio por época: 73.22 segundos\n",
      "125/125 [==============================] - 27s 210ms/step - loss: 0.5565 - binary_accuracy: 0.7258\n"
     ]
    }
   ],
   "source": [
    "# Parámetros de entrenamiento\n",
    "batch_sizes = [32, 64, 128]\n",
    "nums_heads = [6, 8, 10]\n",
    "nums_neur = [(8,16),(16,32),(32,64)]\n",
    "epochs = 50\n",
    "num_runs = 5  # Número de ejecuciones para cada configuración\n",
    "\n",
    "# Listas para almacenar los resultados\n",
    "histories = []\n",
    "b_s = []\n",
    "n_h = []\n",
    "n_n = []\n",
    "val_accuracies = []\n",
    "\n",
    "# Entrenamiento con diferentes tamaños de batch\n",
    "for batch_size in batch_sizes:\n",
    "    for num_h in nums_heads:\n",
    "        for num_n in nums_neur:\n",
    "            print(f\"\\nEntrenando con tamaño de batch: {str(batch_size)}\")\n",
    "            print(f\"\\nEntrenando con tamaño de heads: {str(num_h)}\")\n",
    "            print(f\"\\nEntrenando con tamaño de neuronas 1: {str(num_n[0])}\")\n",
    "            print(f\"\\nEntrenando con tamaño de neuronas 2: {str(num_n[1])}\")\n",
    "            b_s.append(batch_size)\n",
    "            n_h.append(num_h)\n",
    "            n_n.append(num_n)\n",
    "            \n",
    "            accuracies = []  # Lista para almacenar los resultados de accuracy para cada ejecución\n",
    "            \n",
    "            for _ in range(num_runs):\n",
    "                # Crear una nueva instancia del modelo\n",
    "                transformer_model = Transformer(num_n[0], num_n[1], num_h)\n",
    "                model = tf.keras.Model(inputs=inputs, outputs=transformer_model(inputs))\n",
    "\n",
    "                # Entrenar el modelo\n",
    "                history = train_model(model, X_train_seq_padded, y_train, X_test_seq_padded, y_test, batch_size, epochs)\n",
    "                histories.append(history)\n",
    "\n",
    "                # Evaluar el modelo en el conjunto de validación\n",
    "                _, val_accuracy = model.evaluate(X_test_seq_padded, y_test)\n",
    "                accuracies.append(val_accuracy)\n",
    "            \n",
    "            avg_best_accuracy = np.mean(np.max(accuracies))  # Promedio del mejor accuracy obtenido de las ejecuciones\n",
    "            val_accuracies.append(avg_best_accuracy)\n"
   ]
  },
  {
   "cell_type": "code",
   "execution_count": 47,
   "id": "c31b60a4",
   "metadata": {
    "execution": {
     "iopub.execute_input": "2023-05-15T07:33:23.130554Z",
     "iopub.status.busy": "2023-05-15T07:33:23.129752Z",
     "iopub.status.idle": "2023-05-15T07:33:23.162417Z",
     "shell.execute_reply": "2023-05-15T07:33:23.161339Z",
     "shell.execute_reply.started": "2023-05-15T07:33:23.130518Z"
    }
   },
   "outputs": [
    {
     "data": {
      "text/html": [
       "<div>\n",
       "<style scoped>\n",
       "    .dataframe tbody tr th:only-of-type {\n",
       "        vertical-align: middle;\n",
       "    }\n",
       "\n",
       "    .dataframe tbody tr th {\n",
       "        vertical-align: top;\n",
       "    }\n",
       "\n",
       "    .dataframe thead th {\n",
       "        text-align: right;\n",
       "    }\n",
       "</style>\n",
       "<table border=\"1\" class=\"dataframe\">\n",
       "  <thead>\n",
       "    <tr style=\"text-align: right;\">\n",
       "      <th></th>\n",
       "      <th>batch_size</th>\n",
       "      <th>num_heads</th>\n",
       "      <th>val_accuracies</th>\n",
       "      <th>num_neur_1</th>\n",
       "      <th>num_neur_2</th>\n",
       "    </tr>\n",
       "  </thead>\n",
       "  <tbody>\n",
       "    <tr>\n",
       "      <th>23</th>\n",
       "      <td>128</td>\n",
       "      <td>8</td>\n",
       "      <td>0.73775</td>\n",
       "      <td>32</td>\n",
       "      <td>64</td>\n",
       "    </tr>\n",
       "    <tr>\n",
       "      <th>20</th>\n",
       "      <td>128</td>\n",
       "      <td>6</td>\n",
       "      <td>0.73575</td>\n",
       "      <td>32</td>\n",
       "      <td>64</td>\n",
       "    </tr>\n",
       "    <tr>\n",
       "      <th>24</th>\n",
       "      <td>128</td>\n",
       "      <td>10</td>\n",
       "      <td>0.73525</td>\n",
       "      <td>8</td>\n",
       "      <td>16</td>\n",
       "    </tr>\n",
       "    <tr>\n",
       "      <th>8</th>\n",
       "      <td>32</td>\n",
       "      <td>10</td>\n",
       "      <td>0.73475</td>\n",
       "      <td>32</td>\n",
       "      <td>64</td>\n",
       "    </tr>\n",
       "    <tr>\n",
       "      <th>3</th>\n",
       "      <td>32</td>\n",
       "      <td>8</td>\n",
       "      <td>0.73450</td>\n",
       "      <td>8</td>\n",
       "      <td>16</td>\n",
       "    </tr>\n",
       "  </tbody>\n",
       "</table>\n",
       "</div>"
      ],
      "text/plain": [
       "    batch_size  num_heads  val_accuracies  num_neur_1  num_neur_2\n",
       "23         128          8         0.73775          32          64\n",
       "20         128          6         0.73575          32          64\n",
       "24         128         10         0.73525           8          16\n",
       "8           32         10         0.73475          32          64\n",
       "3           32          8         0.73450           8          16"
      ]
     },
     "execution_count": 47,
     "metadata": {},
     "output_type": "execute_result"
    }
   ],
   "source": [
    "# Creamos una tabla con todos los resultados\n",
    "hiperparameters = pd.DataFrame(list(zip(b_s, n_h, n_n, val_accuracies)), columns =['batch_size','num_heads','num_neur','val_accuracies'])\n",
    "\n",
    "hiperparameters['num_neur_1'], hiperparameters['num_neur_2'] = zip(*hiperparameters.num_neur)\n",
    "del hiperparameters['num_neur']\n",
    "\n",
    "hiperparameters.sort_values(by=['val_accuracies'], ascending=False).head()"
   ]
  },
  {
   "cell_type": "code",
   "execution_count": 48,
   "id": "ab2a3a00",
   "metadata": {
    "execution": {
     "iopub.execute_input": "2023-05-15T07:33:39.795220Z",
     "iopub.status.busy": "2023-05-15T07:33:39.794843Z",
     "iopub.status.idle": "2023-05-15T07:33:41.405381Z",
     "shell.execute_reply": "2023-05-15T07:33:41.403834Z",
     "shell.execute_reply.started": "2023-05-15T07:33:39.795188Z"
    }
   },
   "outputs": [
    {
     "data": {
      "text/html": [
       "        <script type=\"text/javascript\">\n",
       "        window.PlotlyConfig = {MathJaxConfig: 'local'};\n",
       "        if (window.MathJax && window.MathJax.Hub && window.MathJax.Hub.Config) {window.MathJax.Hub.Config({SVG: {font: \"STIX-Web\"}});}\n",
       "        if (typeof require !== 'undefined') {\n",
       "        require.undef(\"plotly\");\n",
       "        requirejs.config({\n",
       "            paths: {\n",
       "                'plotly': ['https://cdn.plot.ly/plotly-2.20.0.min']\n",
       "            }\n",
       "        });\n",
       "        require(['plotly'], function(Plotly) {\n",
       "            window._Plotly = Plotly;\n",
       "        });\n",
       "        }\n",
       "        </script>\n",
       "        "
      ]
     },
     "metadata": {},
     "output_type": "display_data"
    },
    {
     "data": {
      "text/html": [
       "<div>                            <div id=\"704b7705-1e91-4200-86f1-054905958383\" class=\"plotly-graph-div\" style=\"height:525px; width:100%;\"></div>            <script type=\"text/javascript\">                require([\"plotly\"], function(Plotly) {                    window.PLOTLYENV=window.PLOTLYENV || {};                                    if (document.getElementById(\"704b7705-1e91-4200-86f1-054905958383\")) {                    Plotly.newPlot(                        \"704b7705-1e91-4200-86f1-054905958383\",                        [{\"dimensions\":[{\"label\":\"Batch\",\"values\":[32,32,32,32,32,32,32,32,32,64,64,64,64,64,64,64,64,64,128,128,128,128,128,128,128,128,128]},{\"label\":\"heads\",\"values\":[6,6,6,8,8,8,10,10,10,6,6,6,8,8,8,10,10,10,6,6,6,8,8,8,10,10,10]},{\"label\":\"neuronas_1\",\"values\":[8,16,32,8,16,32,8,16,32,8,16,32,8,16,32,8,16,32,8,16,32,8,16,32,8,16,32]},{\"label\":\"neuronas_2\",\"values\":[16,32,64,16,32,64,16,32,64,16,32,64,16,32,64,16,32,64,16,32,64,16,32,64,16,32,64]},{\"label\":\"Precisión\",\"values\":[0.7317500114440918,0.7322499752044678,0.7307500243186951,0.734499990940094,0.7310000061988831,0.7322499752044678,0.7167500257492065,0.7272499799728394,0.734749972820282,0.503000020980835,0.7329999804496765,0.7310000061988831,0.7289999723434448,0.7282500267028809,0.7317500114440918,0.715499997138977,0.7167500257492065,0.7269999980926514,0.7225000262260437,0.7325000166893005,0.7357500195503235,0.7325000166893005,0.7335000038146973,0.7377499938011169,0.7352499961853027,0.7300000190734863,0.7267500162124634]}],\"domain\":{\"x\":[0.0,1.0],\"y\":[0.0,1.0]},\"line\":{\"color\":[0.7317500114440918,0.7322499752044678,0.7307500243186951,0.734499990940094,0.7310000061988831,0.7322499752044678,0.7167500257492065,0.7272499799728394,0.734749972820282,0.503000020980835,0.7329999804496765,0.7310000061988831,0.7289999723434448,0.7282500267028809,0.7317500114440918,0.715499997138977,0.7167500257492065,0.7269999980926514,0.7225000262260437,0.7325000166893005,0.7357500195503235,0.7325000166893005,0.7335000038146973,0.7377499938011169,0.7352499961853027,0.7300000190734863,0.7267500162124634],\"coloraxis\":\"coloraxis\"},\"name\":\"\",\"type\":\"parcoords\"}],                        {\"template\":{\"data\":{\"histogram2dcontour\":[{\"type\":\"histogram2dcontour\",\"colorbar\":{\"outlinewidth\":0,\"ticks\":\"\"},\"colorscale\":[[0.0,\"#0d0887\"],[0.1111111111111111,\"#46039f\"],[0.2222222222222222,\"#7201a8\"],[0.3333333333333333,\"#9c179e\"],[0.4444444444444444,\"#bd3786\"],[0.5555555555555556,\"#d8576b\"],[0.6666666666666666,\"#ed7953\"],[0.7777777777777778,\"#fb9f3a\"],[0.8888888888888888,\"#fdca26\"],[1.0,\"#f0f921\"]]}],\"choropleth\":[{\"type\":\"choropleth\",\"colorbar\":{\"outlinewidth\":0,\"ticks\":\"\"}}],\"histogram2d\":[{\"type\":\"histogram2d\",\"colorbar\":{\"outlinewidth\":0,\"ticks\":\"\"},\"colorscale\":[[0.0,\"#0d0887\"],[0.1111111111111111,\"#46039f\"],[0.2222222222222222,\"#7201a8\"],[0.3333333333333333,\"#9c179e\"],[0.4444444444444444,\"#bd3786\"],[0.5555555555555556,\"#d8576b\"],[0.6666666666666666,\"#ed7953\"],[0.7777777777777778,\"#fb9f3a\"],[0.8888888888888888,\"#fdca26\"],[1.0,\"#f0f921\"]]}],\"heatmap\":[{\"type\":\"heatmap\",\"colorbar\":{\"outlinewidth\":0,\"ticks\":\"\"},\"colorscale\":[[0.0,\"#0d0887\"],[0.1111111111111111,\"#46039f\"],[0.2222222222222222,\"#7201a8\"],[0.3333333333333333,\"#9c179e\"],[0.4444444444444444,\"#bd3786\"],[0.5555555555555556,\"#d8576b\"],[0.6666666666666666,\"#ed7953\"],[0.7777777777777778,\"#fb9f3a\"],[0.8888888888888888,\"#fdca26\"],[1.0,\"#f0f921\"]]}],\"heatmapgl\":[{\"type\":\"heatmapgl\",\"colorbar\":{\"outlinewidth\":0,\"ticks\":\"\"},\"colorscale\":[[0.0,\"#0d0887\"],[0.1111111111111111,\"#46039f\"],[0.2222222222222222,\"#7201a8\"],[0.3333333333333333,\"#9c179e\"],[0.4444444444444444,\"#bd3786\"],[0.5555555555555556,\"#d8576b\"],[0.6666666666666666,\"#ed7953\"],[0.7777777777777778,\"#fb9f3a\"],[0.8888888888888888,\"#fdca26\"],[1.0,\"#f0f921\"]]}],\"contourcarpet\":[{\"type\":\"contourcarpet\",\"colorbar\":{\"outlinewidth\":0,\"ticks\":\"\"}}],\"contour\":[{\"type\":\"contour\",\"colorbar\":{\"outlinewidth\":0,\"ticks\":\"\"},\"colorscale\":[[0.0,\"#0d0887\"],[0.1111111111111111,\"#46039f\"],[0.2222222222222222,\"#7201a8\"],[0.3333333333333333,\"#9c179e\"],[0.4444444444444444,\"#bd3786\"],[0.5555555555555556,\"#d8576b\"],[0.6666666666666666,\"#ed7953\"],[0.7777777777777778,\"#fb9f3a\"],[0.8888888888888888,\"#fdca26\"],[1.0,\"#f0f921\"]]}],\"surface\":[{\"type\":\"surface\",\"colorbar\":{\"outlinewidth\":0,\"ticks\":\"\"},\"colorscale\":[[0.0,\"#0d0887\"],[0.1111111111111111,\"#46039f\"],[0.2222222222222222,\"#7201a8\"],[0.3333333333333333,\"#9c179e\"],[0.4444444444444444,\"#bd3786\"],[0.5555555555555556,\"#d8576b\"],[0.6666666666666666,\"#ed7953\"],[0.7777777777777778,\"#fb9f3a\"],[0.8888888888888888,\"#fdca26\"],[1.0,\"#f0f921\"]]}],\"mesh3d\":[{\"type\":\"mesh3d\",\"colorbar\":{\"outlinewidth\":0,\"ticks\":\"\"}}],\"scatter\":[{\"fillpattern\":{\"fillmode\":\"overlay\",\"size\":10,\"solidity\":0.2},\"type\":\"scatter\"}],\"parcoords\":[{\"type\":\"parcoords\",\"line\":{\"colorbar\":{\"outlinewidth\":0,\"ticks\":\"\"}}}],\"scatterpolargl\":[{\"type\":\"scatterpolargl\",\"marker\":{\"colorbar\":{\"outlinewidth\":0,\"ticks\":\"\"}}}],\"bar\":[{\"error_x\":{\"color\":\"#2a3f5f\"},\"error_y\":{\"color\":\"#2a3f5f\"},\"marker\":{\"line\":{\"color\":\"#E5ECF6\",\"width\":0.5},\"pattern\":{\"fillmode\":\"overlay\",\"size\":10,\"solidity\":0.2}},\"type\":\"bar\"}],\"scattergeo\":[{\"type\":\"scattergeo\",\"marker\":{\"colorbar\":{\"outlinewidth\":0,\"ticks\":\"\"}}}],\"scatterpolar\":[{\"type\":\"scatterpolar\",\"marker\":{\"colorbar\":{\"outlinewidth\":0,\"ticks\":\"\"}}}],\"histogram\":[{\"marker\":{\"pattern\":{\"fillmode\":\"overlay\",\"size\":10,\"solidity\":0.2}},\"type\":\"histogram\"}],\"scattergl\":[{\"type\":\"scattergl\",\"marker\":{\"colorbar\":{\"outlinewidth\":0,\"ticks\":\"\"}}}],\"scatter3d\":[{\"type\":\"scatter3d\",\"line\":{\"colorbar\":{\"outlinewidth\":0,\"ticks\":\"\"}},\"marker\":{\"colorbar\":{\"outlinewidth\":0,\"ticks\":\"\"}}}],\"scattermapbox\":[{\"type\":\"scattermapbox\",\"marker\":{\"colorbar\":{\"outlinewidth\":0,\"ticks\":\"\"}}}],\"scatterternary\":[{\"type\":\"scatterternary\",\"marker\":{\"colorbar\":{\"outlinewidth\":0,\"ticks\":\"\"}}}],\"scattercarpet\":[{\"type\":\"scattercarpet\",\"marker\":{\"colorbar\":{\"outlinewidth\":0,\"ticks\":\"\"}}}],\"carpet\":[{\"aaxis\":{\"endlinecolor\":\"#2a3f5f\",\"gridcolor\":\"white\",\"linecolor\":\"white\",\"minorgridcolor\":\"white\",\"startlinecolor\":\"#2a3f5f\"},\"baxis\":{\"endlinecolor\":\"#2a3f5f\",\"gridcolor\":\"white\",\"linecolor\":\"white\",\"minorgridcolor\":\"white\",\"startlinecolor\":\"#2a3f5f\"},\"type\":\"carpet\"}],\"table\":[{\"cells\":{\"fill\":{\"color\":\"#EBF0F8\"},\"line\":{\"color\":\"white\"}},\"header\":{\"fill\":{\"color\":\"#C8D4E3\"},\"line\":{\"color\":\"white\"}},\"type\":\"table\"}],\"barpolar\":[{\"marker\":{\"line\":{\"color\":\"#E5ECF6\",\"width\":0.5},\"pattern\":{\"fillmode\":\"overlay\",\"size\":10,\"solidity\":0.2}},\"type\":\"barpolar\"}],\"pie\":[{\"automargin\":true,\"type\":\"pie\"}]},\"layout\":{\"autotypenumbers\":\"strict\",\"colorway\":[\"#636efa\",\"#EF553B\",\"#00cc96\",\"#ab63fa\",\"#FFA15A\",\"#19d3f3\",\"#FF6692\",\"#B6E880\",\"#FF97FF\",\"#FECB52\"],\"font\":{\"color\":\"#2a3f5f\"},\"hovermode\":\"closest\",\"hoverlabel\":{\"align\":\"left\"},\"paper_bgcolor\":\"white\",\"plot_bgcolor\":\"#E5ECF6\",\"polar\":{\"bgcolor\":\"#E5ECF6\",\"angularaxis\":{\"gridcolor\":\"white\",\"linecolor\":\"white\",\"ticks\":\"\"},\"radialaxis\":{\"gridcolor\":\"white\",\"linecolor\":\"white\",\"ticks\":\"\"}},\"ternary\":{\"bgcolor\":\"#E5ECF6\",\"aaxis\":{\"gridcolor\":\"white\",\"linecolor\":\"white\",\"ticks\":\"\"},\"baxis\":{\"gridcolor\":\"white\",\"linecolor\":\"white\",\"ticks\":\"\"},\"caxis\":{\"gridcolor\":\"white\",\"linecolor\":\"white\",\"ticks\":\"\"}},\"coloraxis\":{\"colorbar\":{\"outlinewidth\":0,\"ticks\":\"\"}},\"colorscale\":{\"sequential\":[[0.0,\"#0d0887\"],[0.1111111111111111,\"#46039f\"],[0.2222222222222222,\"#7201a8\"],[0.3333333333333333,\"#9c179e\"],[0.4444444444444444,\"#bd3786\"],[0.5555555555555556,\"#d8576b\"],[0.6666666666666666,\"#ed7953\"],[0.7777777777777778,\"#fb9f3a\"],[0.8888888888888888,\"#fdca26\"],[1.0,\"#f0f921\"]],\"sequentialminus\":[[0.0,\"#0d0887\"],[0.1111111111111111,\"#46039f\"],[0.2222222222222222,\"#7201a8\"],[0.3333333333333333,\"#9c179e\"],[0.4444444444444444,\"#bd3786\"],[0.5555555555555556,\"#d8576b\"],[0.6666666666666666,\"#ed7953\"],[0.7777777777777778,\"#fb9f3a\"],[0.8888888888888888,\"#fdca26\"],[1.0,\"#f0f921\"]],\"diverging\":[[0,\"#8e0152\"],[0.1,\"#c51b7d\"],[0.2,\"#de77ae\"],[0.3,\"#f1b6da\"],[0.4,\"#fde0ef\"],[0.5,\"#f7f7f7\"],[0.6,\"#e6f5d0\"],[0.7,\"#b8e186\"],[0.8,\"#7fbc41\"],[0.9,\"#4d9221\"],[1,\"#276419\"]]},\"xaxis\":{\"gridcolor\":\"white\",\"linecolor\":\"white\",\"ticks\":\"\",\"title\":{\"standoff\":15},\"zerolinecolor\":\"white\",\"automargin\":true,\"zerolinewidth\":2},\"yaxis\":{\"gridcolor\":\"white\",\"linecolor\":\"white\",\"ticks\":\"\",\"title\":{\"standoff\":15},\"zerolinecolor\":\"white\",\"automargin\":true,\"zerolinewidth\":2},\"scene\":{\"xaxis\":{\"backgroundcolor\":\"#E5ECF6\",\"gridcolor\":\"white\",\"linecolor\":\"white\",\"showbackground\":true,\"ticks\":\"\",\"zerolinecolor\":\"white\",\"gridwidth\":2},\"yaxis\":{\"backgroundcolor\":\"#E5ECF6\",\"gridcolor\":\"white\",\"linecolor\":\"white\",\"showbackground\":true,\"ticks\":\"\",\"zerolinecolor\":\"white\",\"gridwidth\":2},\"zaxis\":{\"backgroundcolor\":\"#E5ECF6\",\"gridcolor\":\"white\",\"linecolor\":\"white\",\"showbackground\":true,\"ticks\":\"\",\"zerolinecolor\":\"white\",\"gridwidth\":2}},\"shapedefaults\":{\"line\":{\"color\":\"#2a3f5f\"}},\"annotationdefaults\":{\"arrowcolor\":\"#2a3f5f\",\"arrowhead\":0,\"arrowwidth\":1},\"geo\":{\"bgcolor\":\"white\",\"landcolor\":\"#E5ECF6\",\"subunitcolor\":\"white\",\"showland\":true,\"showlakes\":true,\"lakecolor\":\"white\"},\"title\":{\"x\":0.05},\"mapbox\":{\"style\":\"light\"}}},\"coloraxis\":{\"colorbar\":{\"title\":{\"text\":\"Precisión\"}},\"colorscale\":[[0.0,\"rgb(0, 147, 146)\"],[0.16666666666666666,\"rgb(114, 170, 161)\"],[0.3333333333333333,\"rgb(177, 199, 179)\"],[0.5,\"rgb(241, 234, 200)\"],[0.6666666666666666,\"rgb(229, 185, 173)\"],[0.8333333333333334,\"rgb(217, 137, 148)\"],[1.0,\"rgb(208, 88, 126)\"]],\"cmid\":0.68},\"legend\":{\"tracegroupgap\":0},\"margin\":{\"t\":60}},                        {\"responsive\": true}                    ).then(function(){\n",
       "                            \n",
       "var gd = document.getElementById('704b7705-1e91-4200-86f1-054905958383');\n",
       "var x = new MutationObserver(function (mutations, observer) {{\n",
       "        var display = window.getComputedStyle(gd).display;\n",
       "        if (!display || display === 'none') {{\n",
       "            console.log([gd, 'removed!']);\n",
       "            Plotly.purge(gd);\n",
       "            observer.disconnect();\n",
       "        }}\n",
       "}});\n",
       "\n",
       "// Listen for the removal of the full notebook cells\n",
       "var notebookContainer = gd.closest('#notebook-container');\n",
       "if (notebookContainer) {{\n",
       "    x.observe(notebookContainer, {childList: true});\n",
       "}}\n",
       "\n",
       "// Listen for the clearing of the current output cell\n",
       "var outputEl = gd.closest('.output');\n",
       "if (outputEl) {{\n",
       "    x.observe(outputEl, {childList: true});\n",
       "}}\n",
       "\n",
       "                        })                };                });            </script>        </div>"
      ]
     },
     "metadata": {},
     "output_type": "display_data"
    }
   ],
   "source": [
    "# Representación gráfica adecuada y explicativa con la combinacion de hyperparámetros versus resultados.\n",
    "h = hiperparameters[['batch_size','num_heads','num_neur_1','num_neur_2','val_accuracies']]\n",
    "\n",
    "fig = px.parallel_coordinates(h, color=\"val_accuracies\", labels={\"batch_size\": \"Batch\",\n",
    "                \"num_heads\": \"heads\", \"num_neur_1\": \"neuronas_1\",\n",
    "                \"num_neur_2\": \"neuronas_2\", \"val_accuracies\": \"Precisión\", },\n",
    "                             color_continuous_scale=px.colors.diverging.Tealrose,\n",
    "                             color_continuous_midpoint=0.68)\n",
    "fig.show()"
   ]
  },
  {
   "cell_type": "markdown",
   "id": "62b1da29",
   "metadata": {},
   "source": [
    "<div style=\"background-color: #fcf2f2; border-color: #dfb5b4; border-left: 5px solid #dfb5b4; padding: 0.5em;\">\n",
    "<strong>Comentarios:</strong>\n",
    "<br><br>\n",
    "Para la búsqueda de hiperparametros para el modelo anterior, he usado una búsqueda iterativa probando con varios parámetros representativos. Como se puede comprobar en la tabla anterior (donde se muestra el top de los 5 mejores) y en la gráfica la variación de precisión no cambia mucho, no obstante, la mejor combinación ha sido con un batch_size de 128, usando 8 hilos, y los tamaños de las neuronas de 64 y 32 respectivamente.  \n",
    "<br><br>\n",
    "</div>"
   ]
  },
  {
   "cell_type": "markdown",
   "id": "aeace509",
   "metadata": {},
   "source": [
    "## 2.4. Escala los datos\n",
    "\n",
    "<div style=\"background-color: #EDF7FF; border-color: #7C9DBF; border-left: 5px solid #7C9DBF; padding: 0.5em;\">\n",
    "<p><strong>Ejercicio [1 pt.]:</strong> Ahora entrena el modelo con todos los datos disponibles (dejando un 80% para train y un 20% para test) con los mejores hyperparámetros identificados. Muestra además del mejor resultado, las gráficas de accuracy y loss durante el entrenamiento.\n",
    "    \n",
    "Comenta los resultados\n",
    "</div>\n"
   ]
  },
  {
   "cell_type": "code",
   "execution_count": 17,
   "id": "87211e16",
   "metadata": {
    "execution": {
     "iopub.execute_input": "2023-05-15T07:37:56.483691Z",
     "iopub.status.busy": "2023-05-15T07:37:56.483324Z",
     "iopub.status.idle": "2023-05-15T07:37:56.496077Z",
     "shell.execute_reply": "2023-05-15T07:37:56.494932Z",
     "shell.execute_reply.started": "2023-05-15T07:37:56.483660Z"
    }
   },
   "outputs": [
    {
     "data": {
      "text/html": [
       "<div>\n",
       "<style scoped>\n",
       "    .dataframe tbody tr th:only-of-type {\n",
       "        vertical-align: middle;\n",
       "    }\n",
       "\n",
       "    .dataframe tbody tr th {\n",
       "        vertical-align: top;\n",
       "    }\n",
       "\n",
       "    .dataframe thead th {\n",
       "        text-align: right;\n",
       "    }\n",
       "</style>\n",
       "<table border=\"1\" class=\"dataframe\">\n",
       "  <thead>\n",
       "    <tr style=\"text-align: right;\">\n",
       "      <th></th>\n",
       "      <th>target</th>\n",
       "      <th>ids</th>\n",
       "      <th>date</th>\n",
       "      <th>flag</th>\n",
       "      <th>user</th>\n",
       "      <th>text</th>\n",
       "    </tr>\n",
       "  </thead>\n",
       "  <tbody>\n",
       "    <tr>\n",
       "      <th>0</th>\n",
       "      <td>4</td>\n",
       "      <td>1962417051</td>\n",
       "      <td>Fri May 29 11:00:49 PDT 2009</td>\n",
       "      <td>NO_QUERY</td>\n",
       "      <td>THISISRUSSIA</td>\n",
       "      <td>follow friday montill djaaries karimadacrop fw...</td>\n",
       "    </tr>\n",
       "    <tr>\n",
       "      <th>1</th>\n",
       "      <td>0</td>\n",
       "      <td>2058406505</td>\n",
       "      <td>Sat Jun 06 14:52:46 PDT 2009</td>\n",
       "      <td>NO_QUERY</td>\n",
       "      <td>janetski</td>\n",
       "      <td>kirstiealley hollands u keep ignoring fact  ho...</td>\n",
       "    </tr>\n",
       "    <tr>\n",
       "      <th>2</th>\n",
       "      <td>4</td>\n",
       "      <td>1956002572</td>\n",
       "      <td>Thu May 28 21:00:23 PDT 2009</td>\n",
       "      <td>NO_QUERY</td>\n",
       "      <td>micahlynnr</td>\n",
       "      <td>booked flight detroit meet bfs parents june th...</td>\n",
       "    </tr>\n",
       "    <tr>\n",
       "      <th>3</th>\n",
       "      <td>0</td>\n",
       "      <td>2256762264</td>\n",
       "      <td>Sat Jun 20 13:15:57 PDT 2009</td>\n",
       "      <td>NO_QUERY</td>\n",
       "      <td>Karayna</td>\n",
       "      <td>stephanie suns songs always make feel sad  sti...</td>\n",
       "    </tr>\n",
       "    <tr>\n",
       "      <th>4</th>\n",
       "      <td>4</td>\n",
       "      <td>2064671862</td>\n",
       "      <td>Sun Jun 07 06:53:13 PDT 2009</td>\n",
       "      <td>NO_QUERY</td>\n",
       "      <td>Beeccaax3</td>\n",
       "      <td>bus</td>\n",
       "    </tr>\n",
       "  </tbody>\n",
       "</table>\n",
       "</div>"
      ],
      "text/plain": [
       "   target         ids                          date      flag          user  \\\n",
       "0       4  1962417051  Fri May 29 11:00:49 PDT 2009  NO_QUERY  THISISRUSSIA   \n",
       "1       0  2058406505  Sat Jun 06 14:52:46 PDT 2009  NO_QUERY      janetski   \n",
       "2       4  1956002572  Thu May 28 21:00:23 PDT 2009  NO_QUERY    micahlynnr   \n",
       "3       0  2256762264  Sat Jun 20 13:15:57 PDT 2009  NO_QUERY       Karayna   \n",
       "4       4  2064671862  Sun Jun 07 06:53:13 PDT 2009  NO_QUERY     Beeccaax3   \n",
       "\n",
       "                                                text  \n",
       "0  follow friday montill djaaries karimadacrop fw...  \n",
       "1  kirstiealley hollands u keep ignoring fact  ho...  \n",
       "2  booked flight detroit meet bfs parents june th...  \n",
       "3  stephanie suns songs always make feel sad  sti...  \n",
       "4                                               bus   "
      ]
     },
     "execution_count": 17,
     "metadata": {},
     "output_type": "execute_result"
    }
   ],
   "source": [
    "# Mostramos algunos datos del conjunto completo\n",
    "df.head()"
   ]
  },
  {
   "cell_type": "code",
   "execution_count": 18,
   "id": "5dfa1b5a",
   "metadata": {
    "execution": {
     "iopub.execute_input": "2023-05-15T07:37:58.753400Z",
     "iopub.status.busy": "2023-05-15T07:37:58.753045Z",
     "iopub.status.idle": "2023-05-15T07:37:59.824294Z",
     "shell.execute_reply": "2023-05-15T07:37:59.823329Z",
     "shell.execute_reply.started": "2023-05-15T07:37:58.753371Z"
    }
   },
   "outputs": [],
   "source": [
    "# Convertir etiquetas\n",
    "df['target'] = df['target'].apply(lambda x: 1 if x==4 else 0)"
   ]
  },
  {
   "cell_type": "code",
   "execution_count": 19,
   "id": "2ba8a9d1",
   "metadata": {
    "execution": {
     "iopub.execute_input": "2023-05-15T07:38:09.248495Z",
     "iopub.status.busy": "2023-05-15T07:38:09.247686Z",
     "iopub.status.idle": "2023-05-15T07:38:09.256525Z",
     "shell.execute_reply": "2023-05-15T07:38:09.255337Z",
     "shell.execute_reply.started": "2023-05-15T07:38:09.248460Z"
    }
   },
   "outputs": [],
   "source": [
    "# Calcular los índices para cada subconjunto\n",
    "train_index = int(len(df) * 0.8)\n",
    "\n",
    "# Dividir los datos en los subconjuntos\n",
    "xl = df['text']\n",
    "yl = df['target']\n",
    "X_train = xl[:train_index]\n",
    "X_test = xl[train_index:]\n",
    "y_train = yl[:train_index]\n",
    "y_test = yl[train_index:]"
   ]
  },
  {
   "cell_type": "code",
   "execution_count": 26,
   "id": "bd156367",
   "metadata": {
    "execution": {
     "iopub.execute_input": "2023-05-15T07:41:56.507890Z",
     "iopub.status.busy": "2023-05-15T07:41:56.507502Z",
     "iopub.status.idle": "2023-05-15T07:42:47.969689Z",
     "shell.execute_reply": "2023-05-15T07:42:47.968697Z",
     "shell.execute_reply.started": "2023-05-15T07:41:56.507858Z"
    }
   },
   "outputs": [],
   "source": [
    "# Crea el Tokenizer\n",
    "tokenizer = Tokenizer(num_words=3000)\n",
    "tokenizer.fit_on_texts(X_train)\n",
    "\n",
    "# Tokeniza los textos\n",
    "X_train_seq = tokenizer.texts_to_sequences(X_train)\n",
    "X_test_seq = tokenizer.texts_to_sequences(X_test)\n",
    "\n",
    "# Normaliza la longitud de los mensajes\n",
    "maxlen  = max([len(x) for x in X_train_seq])"
   ]
  },
  {
   "cell_type": "code",
   "execution_count": 29,
   "id": "39d117bd",
   "metadata": {
    "execution": {
     "iopub.execute_input": "2023-05-15T07:43:29.488914Z",
     "iopub.status.busy": "2023-05-15T07:43:29.488481Z",
     "iopub.status.idle": "2023-05-15T08:41:04.761770Z",
     "shell.execute_reply": "2023-05-15T08:41:04.760564Z",
     "shell.execute_reply.started": "2023-05-15T07:43:29.488877Z"
    }
   },
   "outputs": [
    {
     "data": {
      "image/png": "[encoded data removed]",
      "text/plain": [
       "<Figure size 1000x400 with 2 Axes>"
      ]
     },
     "metadata": {},
     "output_type": "display_data"
    },
    {
     "name": "stdout",
     "output_type": "stream",
     "text": [
      "10000/10000 [==============================] - 177s 18ms/step - loss: 0.4703 - binary_accuracy: 0.7717 - val_loss: 0.4780 - val_binary_accuracy: 0.7676 - lr: 5.0000e-04\n",
      "Entrenamiento completado en 3448.60 segundos\n",
      "Tiempo promedio por época: 1834.98 segundos\n"
     ]
    }
   ],
   "source": [
    "# Creamos el nuevo modelo con los Hiperparametros\n",
    "inputs = layers.Input(shape=(maxlen,))\n",
    "\n",
    "X_train_seq_padded = pad_sequences(X_train_seq, maxlen=maxlen , padding='post')\n",
    "X_test_seq_padded = pad_sequences(X_test_seq, maxlen=maxlen , padding='post')\n",
    "\n",
    "transformer_model = Transformer(32, 64, 8) # Añadimos los valores de Hiperparametros\n",
    "model = tf.keras.Model(inputs=inputs, outputs=transformer_model(inputs))\n",
    "\n",
    "# Entrenamos el modelo\n",
    "history = train_model(model, X_train_seq_padded, y_train, X_test_seq_padded, y_test, 128, 100)"
   ]
  },
  {
   "cell_type": "code",
   "execution_count": 31,
   "id": "afc3fef8",
   "metadata": {
    "execution": {
     "iopub.execute_input": "2023-05-15T08:42:03.898952Z",
     "iopub.status.busy": "2023-05-15T08:42:03.898018Z",
     "iopub.status.idle": "2023-05-15T08:42:59.486045Z",
     "shell.execute_reply": "2023-05-15T08:42:59.484873Z",
     "shell.execute_reply.started": "2023-05-15T08:42:03.898914Z"
    }
   },
   "outputs": [
    {
     "name": "stdout",
     "output_type": "stream",
     "text": [
      "10000/10000 [==============================] - 56s 6ms/step - loss: 0.4775 - binary_accuracy: 0.7681\n",
      "Loss en test: 0.4775322377681732\n",
      "Precisión en test: 0.7681093811988831\n"
     ]
    }
   ],
   "source": [
    "# Evaluación del modelo\n",
    "loss, acc = model.evaluate(X_test_seq_padded, y_test)\n",
    "print(\"Loss en test:\", loss)\n",
    "print(\"Precisión en test:\", acc)"
   ]
  },
  {
   "cell_type": "code",
   "execution_count": 33,
   "id": "7b02e62d",
   "metadata": {
    "execution": {
     "iopub.execute_input": "2023-05-15T08:46:16.097593Z",
     "iopub.status.busy": "2023-05-15T08:46:16.097154Z",
     "iopub.status.idle": "2023-05-15T08:46:57.689589Z",
     "shell.execute_reply": "2023-05-15T08:46:57.688668Z",
     "shell.execute_reply.started": "2023-05-15T08:46:16.097556Z"
    }
   },
   "outputs": [
    {
     "name": "stdout",
     "output_type": "stream",
     "text": [
      "10000/10000 [==============================] - 27s 3ms/step\n"
     ]
    },
    {
     "data": {
      "image/png": "[encoded data removed]",
      "text/plain": [
       "<Figure size 800x800 with 1 Axes>"
      ]
     },
     "metadata": {},
     "output_type": "display_data"
    }
   ],
   "source": [
    "# Predicción del modelo\n",
    "y_pred = model.predict(X_test_seq_padded)\n",
    "\n",
    "fprs, tprs, thresholds = roc_curve(y_test, y_pred)\n",
    "\n",
    "plt.figure(figsize=(8, 8))\n",
    "plt.plot([0, 1], [0, 1], linestyle=\"-\", c=\"k\", alpha=0.2, label=\"ROC-AUC=0.5\")\n",
    "plt.plot(fprs, tprs, color=\"orange\", label=\"ROC Curve\")\n",
    "plt.xlabel(\"Tasa de falsos positivos\")\n",
    "plt.ylabel(\"Tasa de verdaderos positivos\")\n",
    "\n",
    "y_zeros = [0 for _ in tprs]\n",
    "plt.fill_between(fprs, y_zeros, tprs, color=\"orange\", alpha=0.3, label=\"ROC-AUC\")\n",
    "plt.legend()\n",
    "plt.show()"
   ]
  },
  {
   "cell_type": "code",
   "execution_count": 34,
   "id": "85f6730e",
   "metadata": {
    "execution": {
     "iopub.execute_input": "2023-05-15T08:47:13.838525Z",
     "iopub.status.busy": "2023-05-15T08:47:13.838150Z",
     "iopub.status.idle": "2023-05-15T08:47:15.171522Z",
     "shell.execute_reply": "2023-05-15T08:47:15.170650Z",
     "shell.execute_reply.started": "2023-05-15T08:47:13.838495Z"
    }
   },
   "outputs": [
    {
     "data": {
      "image/png": "[encoded data removed]",
      "text/plain": [
       "<Figure size 750x750 with 1 Axes>"
      ]
     },
     "metadata": {},
     "output_type": "display_data"
    }
   ],
   "source": [
    "# Matriz de confusión\n",
    "conf_matrix = confusion_matrix(y_test, [0 if x < 0.5 else 1 for x in y_pred])\n",
    "\n",
    "fig, ax = plt.subplots(figsize=(7.5, 7.5))\n",
    "ax.matshow(conf_matrix, cmap=plt.cm.Blues, alpha=0.3)\n",
    "for i in range(conf_matrix.shape[0]):\n",
    "    for j in range(conf_matrix.shape[1]):\n",
    "        ax.text(x=j, y=i,s=conf_matrix[i, j], va='center', ha='center', size='xx-large')\n",
    "\n",
    "plt.xlabel('Predicciones', fontsize=18)\n",
    "plt.ylabel('Datos reales', fontsize=18)\n",
    "plt.title('Matriz de confusión', fontsize=18)\n",
    "plt.show()"
   ]
  },
  {
   "cell_type": "markdown",
   "id": "a2633f75",
   "metadata": {},
   "source": [
    "<div style=\"background-color: #fcf2f2; border-color: #dfb5b4; border-left: 5px solid #dfb5b4; padding: 0.5em;\">\n",
    "<strong>Comentarios:</strong>\n",
    "<br><br>\n",
    "Ahora al escalar los datos, y usar los hiperparmetros, vemos que la precisión del modelo es del 76,81%, lo cual ha subido el nivel de precisión un 3% respecto al anterior modelo, en donde solo hemos probados con distintos batch_size.\n",
    "    \n",
    "En conclusión, para este tipo de problemas, se ha conseguidor crear una modelo con una arquitectura Transformers y se ha obtenido una precisión bastante buena. \n",
    "<br><br>\n",
    "</div>"
   ]
  },
  {
   "cell_type": "markdown",
   "id": "28e5d9b1",
   "metadata": {},
   "source": [
    "## 2.5. Extra \n",
    "Al tratarse Sentiment140 de un dataset público es habitual que los investigadores, equipos de data scientist o miembros de la comunidad de la ciencia de datos reporten los resultados obtenidos con sus nuevos algorítmos. En los últimos años se ha hecho popular una página web que reporta los resultados obtenidos por diferentes equipos junto con código reproducible: https://paperswithcode.com/sota/text-classification-on-sentiment140\n"
   ]
  },
  {
   "cell_type": "markdown",
   "id": "04819588",
   "metadata": {},
   "source": [
    "<div style=\"background-color: #EDF7FF; border-color: #7C9DBF; border-left: 5px solid #7C9DBF; padding: 0.5em;\">\n",
    "<p><strong>Ejercicio [0 pt.]:</strong> Este apartado es un ejercicio extra que no es obligatorio realizar. Se trata de explorar los resultados reportados en la url indicada. Comprobarás que los resultados obtenidos están basados en modelos de lenguage de gran tamaño finetuneados sobre el dominio. Se anima al alumno a probar a cambiar la arquitectura utilizada o a utilizar alguno de los modelos y finetunearlo sobre el dominio con la ayuda de librerías como huggingface e intentar obtener resultados que se acerquen (¿o supéren?) a los benchmarks reportados.\n",
    "</div>"
   ]
  },
  {
   "cell_type": "code",
   "execution_count": null,
   "id": "9c8a3b4d",
   "metadata": {},
   "outputs": [],
   "source": [
    "## Apartado extra opcional."
   ]
  },
  {
   "cell_type": "markdown",
   "id": "4d0091c1",
   "metadata": {},
   "source": [
    "# 3. Ejercicio sobre traducción de textos (4 puntos)\n",
    "En esta segunda parte vamos a utilizar una base de datos distinta para mostrar uno de los problemas en los que las arquitecturas basadas en transformers son más potentes: la conversión de secuencias a secuencias. En este caso lo vamos a entender como una traducción de un idioma a otro, pero esto es generalizable. Arquitecturas similares se podrían utilizar para convertir una secuencia larga (texto) a una secuencia (resumen), para reducir la complejidad de lectura de un texto, para transcribirlo a lenguaje de signos, etc.\n",
    "\n",
    "## 3.1 Importación de los datos y preprocesamiento previo\n",
    "En este caso la base de datos que se va a utilizar es la llamada WMT2014 English-French que contiene frases traducidas entre inglés y frances. \n",
    "Los datos se pueden descargar de:\n",
    "https://paperswithcode.com/sota/machine-translation-on-wmt2014-english-french\n",
    "\n",
    "Se trata de un fichero enorme. Por ello únicamente se van a utilzar un fragmento de todos los pares de frases del fichero. Se recomienda no cargar todos los datos simultaneamente para evitar problemas de memoria y de tiempo de computación.\n",
    "\n",
    "\n"
   ]
  },
  {
   "cell_type": "markdown",
   "id": "fdabecab",
   "metadata": {},
   "source": [
    "<div style=\"background-color: #EDF7FF; border-color: #7C9DBF; border-left: 5px solid #7C9DBF; padding: 0.5em;\">\n",
    "<p><strong>Ejercicio [1 pts.]:</strong></p> Al igual que en casos anteriores, el primer paso es cargar y preprocesar los datos de la forma adecuada. Para ello se pide:\n",
    "    \n",
    "* Cargar las primeras 100.000 lineas del dataset proporcionado.\n",
    "* Procesar el dataset de forma que se obtenga una lista de tuplas. El primer elemento de la tupla es la frase en inglés, el segundo elemento es la frase en frances. Al comienzo y final de la frase objetivo hay que añadir un caracter especial de comienzo [start] y fin de frase [end]: e.g. [start] lle découle de notre étonnement [end]\n",
    "* Limpiar los datos de caracteres extraños, pasar a minusculas, etc.\n",
    "* Mostrar varios pares de frases para comprobar que está correctamente procesado\n",
    "* Toma al azar un 80% de los datos como train y el resto como test\n",
    "* Comprueba que tus datos se llaman train_data y test_data  tienen la forma [(frase ingles, frase francés), (frase ingles,frase francés))  \n",
    "* Ejecuta la celda que se ha proporcionado para vectorizar y codificar los datos.\n",
    "\n",
    "</div>"
   ]
  },
  {
   "cell_type": "code",
   "execution_count": 36,
   "id": "aa311576",
   "metadata": {
    "execution": {
     "iopub.execute_input": "2023-05-15T08:50:20.566260Z",
     "iopub.status.busy": "2023-05-15T08:50:20.565721Z",
     "iopub.status.idle": "2023-05-15T08:50:21.364641Z",
     "shell.execute_reply": "2023-05-15T08:50:21.363705Z",
     "shell.execute_reply.started": "2023-05-15T08:50:20.566222Z"
    }
   },
   "outputs": [
    {
     "data": {
      "text/html": [
       "<div>\n",
       "<style scoped>\n",
       "    .dataframe tbody tr th:only-of-type {\n",
       "        vertical-align: middle;\n",
       "    }\n",
       "\n",
       "    .dataframe tbody tr th {\n",
       "        vertical-align: top;\n",
       "    }\n",
       "\n",
       "    .dataframe thead th {\n",
       "        text-align: right;\n",
       "    }\n",
       "</style>\n",
       "<table border=\"1\" class=\"dataframe\">\n",
       "  <thead>\n",
       "    <tr style=\"text-align: right;\">\n",
       "      <th></th>\n",
       "      <th>en</th>\n",
       "      <th>fr</th>\n",
       "    </tr>\n",
       "  </thead>\n",
       "  <tbody>\n",
       "    <tr>\n",
       "      <th>0</th>\n",
       "      <td>Changing Lives | Changing Society | How It Wor...</td>\n",
       "      <td>Il a transformé notre vie | Il a transformé la...</td>\n",
       "    </tr>\n",
       "    <tr>\n",
       "      <th>1</th>\n",
       "      <td>Site map</td>\n",
       "      <td>Plan du site</td>\n",
       "    </tr>\n",
       "    <tr>\n",
       "      <th>2</th>\n",
       "      <td>Feedback</td>\n",
       "      <td>Rétroaction</td>\n",
       "    </tr>\n",
       "    <tr>\n",
       "      <th>3</th>\n",
       "      <td>Credits</td>\n",
       "      <td>Crédits</td>\n",
       "    </tr>\n",
       "    <tr>\n",
       "      <th>4</th>\n",
       "      <td>Français</td>\n",
       "      <td>English</td>\n",
       "    </tr>\n",
       "  </tbody>\n",
       "</table>\n",
       "</div>"
      ],
      "text/plain": [
       "                                                  en  \\\n",
       "0  Changing Lives | Changing Society | How It Wor...   \n",
       "1                                           Site map   \n",
       "2                                           Feedback   \n",
       "3                                            Credits   \n",
       "4                                           Français   \n",
       "\n",
       "                                                  fr  \n",
       "0  Il a transformé notre vie | Il a transformé la...  \n",
       "1                                       Plan du site  \n",
       "2                                        Rétroaction  \n",
       "3                                            Crédits  \n",
       "4                                            English  "
      ]
     },
     "execution_count": 36,
     "metadata": {},
     "output_type": "execute_result"
    }
   ],
   "source": [
    "# Cargamos los datos\n",
    "df = pd.read_csv('/kaggle/input/en-fr-translation-dataset/en-fr.csv', encoding='utf-8', header = 0, nrows=100000)\n",
    "df.head()"
   ]
  },
  {
   "cell_type": "code",
   "execution_count": 37,
   "id": "90ca087f",
   "metadata": {
    "execution": {
     "iopub.execute_input": "2023-05-15T08:51:15.605716Z",
     "iopub.status.busy": "2023-05-15T08:51:15.601303Z",
     "iopub.status.idle": "2023-05-15T08:51:15.751131Z",
     "shell.execute_reply": "2023-05-15T08:51:15.749967Z",
     "shell.execute_reply.started": "2023-05-15T08:51:15.605648Z"
    }
   },
   "outputs": [],
   "source": [
    "# Comprobamos si no existen nulos\n",
    "df = df[df['en'].notnull()]\n",
    "df = df[df['fr'].notnull()]"
   ]
  },
  {
   "cell_type": "code",
   "execution_count": 38,
   "id": "ddbe37c6",
   "metadata": {
    "execution": {
     "iopub.execute_input": "2023-05-15T08:51:54.143228Z",
     "iopub.status.busy": "2023-05-15T08:51:54.142830Z",
     "iopub.status.idle": "2023-05-15T08:51:56.429493Z",
     "shell.execute_reply": "2023-05-15T08:51:56.428426Z",
     "shell.execute_reply.started": "2023-05-15T08:51:54.143194Z"
    }
   },
   "outputs": [],
   "source": [
    "# Procesar los datos\n",
    "def limpieza_estandarizacion_ampliado(texto, idioma):\n",
    "    try:\n",
    "        texto = re.sub(r'[^a-zA-Z\\u00C0-\\u00FF ]+', '', texto).lower().split(\" \")\n",
    "        \"\"\"\n",
    "        if idioma == 'en':\n",
    "            stop_words = stopwords.words('english')\n",
    "        elif idioma == 'fr':\n",
    "            stop_words = stopwords.words('french')\n",
    "        texto_filtrado = [palabra for palabra in texto if palabra not in stop_words]\n",
    "        \"\"\"\n",
    "        return (\" \").join(texto)\n",
    "        \n",
    "    except: \n",
    "        return (\" \").join('')\n",
    "\n",
    "\n",
    "df['en'] = df['en'].apply(lambda x: limpieza_estandarizacion_ampliado(x, 'en'))\n",
    "df['fr'] = df['fr'].apply(lambda x: limpieza_estandarizacion_ampliado(x, 'fr'))"
   ]
  },
  {
   "cell_type": "code",
   "execution_count": 39,
   "id": "145fa1ca",
   "metadata": {
    "execution": {
     "iopub.execute_input": "2023-05-15T08:52:39.189444Z",
     "iopub.status.busy": "2023-05-15T08:52:39.189064Z",
     "iopub.status.idle": "2023-05-15T08:52:41.719381Z",
     "shell.execute_reply": "2023-05-15T08:52:41.718414Z",
     "shell.execute_reply.started": "2023-05-15T08:52:39.189412Z"
    }
   },
   "outputs": [],
   "source": [
    "# Añadimos caracteres especiales\n",
    "def f(english, french):\n",
    "    return (f'{english}', f'[start] {french} [end]' )\n",
    "\n",
    "df['procesado'] = df.apply(lambda x: f(x.en, x.fr), axis=1)"
   ]
  },
  {
   "cell_type": "code",
   "execution_count": 40,
   "id": "3fa7520d",
   "metadata": {
    "execution": {
     "iopub.execute_input": "2023-05-15T08:53:26.974900Z",
     "iopub.status.busy": "2023-05-15T08:53:26.974394Z",
     "iopub.status.idle": "2023-05-15T08:53:26.999378Z",
     "shell.execute_reply": "2023-05-15T08:53:26.998418Z",
     "shell.execute_reply.started": "2023-05-15T08:53:26.974860Z"
    }
   },
   "outputs": [
    {
     "data": {
      "text/html": [
       "<div>\n",
       "<style scoped>\n",
       "    .dataframe tbody tr th:only-of-type {\n",
       "        vertical-align: middle;\n",
       "    }\n",
       "\n",
       "    .dataframe tbody tr th {\n",
       "        vertical-align: top;\n",
       "    }\n",
       "\n",
       "    .dataframe thead th {\n",
       "        text-align: right;\n",
       "    }\n",
       "</style>\n",
       "<table border=\"1\" class=\"dataframe\">\n",
       "  <thead>\n",
       "    <tr style=\"text-align: right;\">\n",
       "      <th></th>\n",
       "      <th>en</th>\n",
       "      <th>fr</th>\n",
       "      <th>procesado</th>\n",
       "    </tr>\n",
       "  </thead>\n",
       "  <tbody>\n",
       "    <tr>\n",
       "      <th>0</th>\n",
       "      <td>changing lives  changing society  how it works...</td>\n",
       "      <td>il a transformé notre vie  il a transformé la ...</td>\n",
       "      <td>(changing lives  changing society  how it work...</td>\n",
       "    </tr>\n",
       "    <tr>\n",
       "      <th>1</th>\n",
       "      <td>site map</td>\n",
       "      <td>plan du site</td>\n",
       "      <td>(site map, [start] plan du site [end])</td>\n",
       "    </tr>\n",
       "    <tr>\n",
       "      <th>2</th>\n",
       "      <td>feedback</td>\n",
       "      <td>rétroaction</td>\n",
       "      <td>(feedback, [start] rétroaction [end])</td>\n",
       "    </tr>\n",
       "    <tr>\n",
       "      <th>3</th>\n",
       "      <td>credits</td>\n",
       "      <td>crédits</td>\n",
       "      <td>(credits, [start] crédits [end])</td>\n",
       "    </tr>\n",
       "    <tr>\n",
       "      <th>4</th>\n",
       "      <td>français</td>\n",
       "      <td>english</td>\n",
       "      <td>(français, [start] english [end])</td>\n",
       "    </tr>\n",
       "  </tbody>\n",
       "</table>\n",
       "</div>"
      ],
      "text/plain": [
       "                                                  en  \\\n",
       "0  changing lives  changing society  how it works...   \n",
       "1                                           site map   \n",
       "2                                           feedback   \n",
       "3                                            credits   \n",
       "4                                           français   \n",
       "\n",
       "                                                  fr  \\\n",
       "0  il a transformé notre vie  il a transformé la ...   \n",
       "1                                       plan du site   \n",
       "2                                        rétroaction   \n",
       "3                                            crédits   \n",
       "4                                            english   \n",
       "\n",
       "                                           procesado  \n",
       "0  (changing lives  changing society  how it work...  \n",
       "1             (site map, [start] plan du site [end])  \n",
       "2              (feedback, [start] rétroaction [end])  \n",
       "3                   (credits, [start] crédits [end])  \n",
       "4                  (français, [start] english [end])  "
      ]
     },
     "execution_count": 40,
     "metadata": {},
     "output_type": "execute_result"
    }
   ],
   "source": [
    "# Mostrar datos procesados\n",
    "df.head()"
   ]
  },
  {
   "cell_type": "code",
   "execution_count": 61,
   "id": "fb17af10",
   "metadata": {
    "execution": {
     "iopub.execute_input": "2023-05-15T09:04:49.283631Z",
     "iopub.status.busy": "2023-05-15T09:04:49.283265Z",
     "iopub.status.idle": "2023-05-15T09:04:49.289271Z",
     "shell.execute_reply": "2023-05-15T09:04:49.288080Z",
     "shell.execute_reply.started": "2023-05-15T09:04:49.283600Z"
    }
   },
   "outputs": [],
   "source": [
    "# Calcular los índices para cada subconjunto\n",
    "train_index = int(len(df['procesado']) * 0.8)\n",
    "\n",
    "# Dividir los datos en los subconjuntos\n",
    "xl = df['procesado']\n",
    "train_data = xl[:train_index]\n",
    "test_data = xl[train_index:]"
   ]
  },
  {
   "cell_type": "code",
   "execution_count": 62,
   "id": "649a8199",
   "metadata": {
    "execution": {
     "iopub.execute_input": "2023-05-15T09:04:51.216383Z",
     "iopub.status.busy": "2023-05-15T09:04:51.215931Z",
     "iopub.status.idle": "2023-05-15T09:04:51.230871Z",
     "shell.execute_reply": "2023-05-15T09:04:51.229159Z",
     "shell.execute_reply.started": "2023-05-15T09:04:51.216341Z"
    }
   },
   "outputs": [
    {
     "name": "stdout",
     "output_type": "stream",
     "text": [
      "Tamaño de train_data: 79999\n",
      "Tamaño de test_data: 20000\n"
     ]
    }
   ],
   "source": [
    "# Mostrar el tamaño de train_data, test_data y val_data\n",
    "print(f\"Tamaño de train_data: {len(train_data)}\")\n",
    "print(f\"Tamaño de test_data: {len(test_data)}\")"
   ]
  },
  {
   "cell_type": "code",
   "execution_count": 63,
   "id": "4423cea9",
   "metadata": {
    "execution": {
     "iopub.execute_input": "2023-05-15T09:04:56.874410Z",
     "iopub.status.busy": "2023-05-15T09:04:56.874049Z",
     "iopub.status.idle": "2023-05-15T09:05:14.060272Z",
     "shell.execute_reply": "2023-05-15T09:05:14.059264Z",
     "shell.execute_reply.started": "2023-05-15T09:04:56.874380Z"
    }
   },
   "outputs": [],
   "source": [
    "###########################################################\n",
    "# Esta celda para vectorizar los datos se propociona ######\n",
    "###########################################################\n",
    "\n",
    "vocab_size = 15000\n",
    "sequence_length = 20\n",
    "batch_size = 64\n",
    "\n",
    "eng_vectorization = TextVectorization(max_tokens=vocab_size, output_mode=\"int\", output_sequence_length=sequence_length,)\n",
    "fr_vectorization = TextVectorization(max_tokens=vocab_size,output_mode=\"int\",output_sequence_length=sequence_length + 1,)\n",
    "\n",
    "train_eng_texts = [pair[0] for pair in train_data]\n",
    "train_fr_texts = [pair[1] for pair in train_data]\n",
    "\n",
    "eng_vectorization.adapt(train_eng_texts)\n",
    "fr_vectorization.adapt(train_fr_texts)\n",
    "\n",
    "\n",
    "\n",
    "def format_dataset(eng, fr):\n",
    "    eng = eng_vectorization(eng)\n",
    "    fr = fr_vectorization(fr)\n",
    "    return ({\"encoder_inputs\": eng, \"decoder_inputs\": fr[:, :-1],}, fr[:, 1:])\n",
    "\n",
    "\n",
    "def make_dataset(pairs):\n",
    "    eng_texts, fr_texts = zip(*pairs)\n",
    "    eng_texts = list(eng_texts)\n",
    "    fr_texts = list(fr_texts)\n",
    "    dataset = tf.data.Dataset.from_tensor_slices((eng_texts, fr_texts))\n",
    "    dataset = dataset.batch(batch_size)\n",
    "    dataset = dataset.map(format_dataset)\n",
    "    return dataset.shuffle(2048).prefetch(16).cache()\n",
    "\n",
    "\n",
    "train_vectorized = make_dataset(train_data)\n",
    "val_vectorized = make_dataset(test_data)"
   ]
  },
  {
   "cell_type": "markdown",
   "id": "2acd682e",
   "metadata": {},
   "source": [
    "## 3.2. Modifica el bloque de transformer\n",
    "A continuación se proporciona un bloque transformer del tipo seq2seq con un encoder y un decoder antes de la salida. "
   ]
  },
  {
   "cell_type": "markdown",
   "id": "5e37a4bd",
   "metadata": {},
   "source": [
    "<div style=\"background-color: #EDF7FF; border-color: #7C9DBF; border-left: 5px solid #7C9DBF; padding: 0.5em;\">\n",
    "<p><strong>Ejercicio [1 pts.]:</strong></p> Se propone realizar algunos cambios sobre la implementación del bloque transformer:\n",
    "    \n",
    "* Añade una capa de atención de una sola cabeza al final del encoder.\n",
    "* Añade una capa fully connected en el encoder\n",
    "* Duplica el bloque encoder\n",
    "* Añade una capa de dropout despues del bloque del decoder.\n",
    "\n",
    "</div>"
   ]
  },
  {
   "cell_type": "code",
   "execution_count": null,
   "id": "841069e7",
   "metadata": {},
   "outputs": [],
   "source": [
    "########################################\n",
    "# Codigo proporcionado #################\n",
    "########################################\n",
    "class TransformerEncoder(layers.Layer):\n",
    "    def __init__(self, embed_dim, dense_dim, num_heads, **kwargs):\n",
    "        super().__init__(**kwargs)\n",
    "        self.embed_dim = embed_dim\n",
    "        self.dense_dim = dense_dim\n",
    "        self.num_heads = num_heads\n",
    "        self.attention = layers.MultiHeadAttention(num_heads=num_heads, key_dim=embed_dim)\n",
    "        self.dense_proj = keras.Sequential([layers.Dense(dense_dim, activation=\"relu\"), layers.Dense(embed_dim),])\n",
    "        self.layernorm_1 = layers.LayerNormalization()\n",
    "        self.layernorm_2 = layers.LayerNormalization()\n",
    "        self.supports_masking = True\n",
    "\n",
    "    def call(self, inputs, mask=None):\n",
    "        if mask is not None:\n",
    "            padding_mask = tf.cast(mask[:, tf.newaxis, :], dtype=\"int32\")\n",
    "        attention_output = self.attention(query=inputs, value=inputs, key=inputs, attention_mask=padding_mask)\n",
    "        proj_input = self.layernorm_1(inputs + attention_output)\n",
    "        proj_output = self.dense_proj(proj_input)\n",
    "        return self.layernorm_2(proj_input + proj_output)\n",
    "\n",
    "\n",
    "class PositionalEmbedding(layers.Layer):\n",
    "    def __init__(self, sequence_length, vocab_size, embed_dim, **kwargs):\n",
    "        super().__init__(**kwargs)\n",
    "        self.token_embeddings = layers.Embedding(input_dim=vocab_size, output_dim=embed_dim)\n",
    "        self.position_embeddings = layers.Embedding(input_dim=sequence_length, output_dim=embed_dim)\n",
    "        self.sequence_length = sequence_length\n",
    "        self.vocab_size = vocab_size\n",
    "        self.embed_dim = embed_dim\n",
    "\n",
    "    def call(self, inputs):\n",
    "        length = tf.shape(inputs)[-1]\n",
    "        positions = tf.range(start=0, limit=length, delta=1)\n",
    "        embedded_tokens = self.token_embeddings(inputs)\n",
    "        embedded_positions = self.position_embeddings(positions)\n",
    "        return embedded_tokens + embedded_positions\n",
    "\n",
    "    def compute_mask(self, inputs, mask=None):\n",
    "        return tf.math.not_equal(inputs, 0)\n",
    "\n",
    "\n",
    "class TransformerDecoder(layers.Layer):\n",
    "    def __init__(self, embed_dim, latent_dim, num_heads, **kwargs):\n",
    "        super().__init__(**kwargs)\n",
    "        self.embed_dim = embed_dim\n",
    "        self.latent_dim = latent_dim\n",
    "        self.num_heads = num_heads\n",
    "        self.attention_1 = layers.MultiHeadAttention(num_heads=num_heads, key_dim=embed_dim)\n",
    "        self.attention_2 = layers.MultiHeadAttention(num_heads=num_heads, key_dim=embed_dim)\n",
    "        self.dense_proj = keras.Sequential([layers.Dense(latent_dim, activation=\"relu\"), layers.Dense(embed_dim),])\n",
    "        self.layernorm_1 = layers.LayerNormalization()\n",
    "        self.layernorm_2 = layers.LayerNormalization()\n",
    "        self.layernorm_3 = layers.LayerNormalization()\n",
    "        self.supports_masking = True\n",
    "\n",
    "    def call(self, inputs, encoder_outputs, mask=None):\n",
    "        causal_mask = self.get_causal_attention_mask(inputs)\n",
    "        if mask is not None:\n",
    "            padding_mask = tf.cast(mask[:, tf.newaxis, :], dtype=\"int32\")\n",
    "            padding_mask = tf.minimum(padding_mask, causal_mask)\n",
    "\n",
    "        attention_output_1 = self.attention_1(query=inputs, value=inputs, key=inputs, attention_mask=causal_mask)\n",
    "        out_1 = self.layernorm_1(inputs + attention_output_1)\n",
    "\n",
    "        attention_output_2 = self.attention_2(query=out_1,value=encoder_outputs,key=encoder_outputs,attention_mask=padding_mask,)\n",
    "        out_2 = self.layernorm_2(out_1 + attention_output_2)\n",
    "\n",
    "        proj_output = self.dense_proj(out_1)\n",
    "        return self.layernorm_3(out_2 + proj_output)\n",
    "\n",
    "    def get_causal_attention_mask(self, inputs):\n",
    "        input_shape = tf.shape(inputs)\n",
    "        batch_size, sequence_length = input_shape[0], input_shape[1]\n",
    "        i = tf.range(sequence_length)[:, tf.newaxis]\n",
    "        j = tf.range(sequence_length)\n",
    "        mask = tf.cast(i >= j, dtype=\"int32\")\n",
    "        mask = tf.reshape(mask, (1, input_shape[1], input_shape[1]))\n",
    "        mult = tf.concat(\n",
    "            [tf.expand_dims(batch_size, -1), tf.constant([1, 1], dtype=tf.int32)],\n",
    "            axis=0,\n",
    "        )\n",
    "        return tf.tile(mask, mult)\n",
    "    \n",
    "    \n",
    "embed_dim = 128\n",
    "latent_dim = 1024\n",
    "num_heads = 2\n",
    "\n",
    "encoder_inputs = keras.Input(shape=(None,), dtype=\"int64\", name=\"encoder_inputs\")\n",
    "x = PositionalEmbedding(sequence_length, vocab_size, embed_dim)(encoder_inputs)\n",
    "encoder_outputs = TransformerEncoder(embed_dim, latent_dim, num_heads)(x)\n",
    "encoder = keras.Model(encoder_inputs, encoder_outputs)\n",
    "\n",
    "decoder_inputs = keras.Input(shape=(None,), dtype=\"int64\", name=\"decoder_inputs\")\n",
    "encoded_seq_inputs = keras.Input(shape=(None, embed_dim), name=\"decoder_state_inputs\")\n",
    "x = PositionalEmbedding(sequence_length, vocab_size, embed_dim)(decoder_inputs)\n",
    "x = TransformerDecoder(embed_dim, latent_dim, num_heads)(x, encoded_seq_inputs)\n",
    "\n",
    "decoder_outputs = layers.Dense(vocab_size, activation=\"softmax\")(x)\n",
    "decoder = keras.Model([decoder_inputs, encoded_seq_inputs], decoder_outputs)\n",
    "\n",
    "decoder_outputs = decoder([decoder_inputs, encoder_outputs])\n",
    "transformer = keras.Model([encoder_inputs, decoder_inputs], decoder_outputs, name=\"transformer\")\n"
   ]
  },
  {
   "cell_type": "code",
   "execution_count": 64,
   "id": "07692318",
   "metadata": {
    "execution": {
     "iopub.execute_input": "2023-05-15T09:05:21.579850Z",
     "iopub.status.busy": "2023-05-15T09:05:21.579133Z",
     "iopub.status.idle": "2023-05-15T09:05:23.039879Z",
     "shell.execute_reply": "2023-05-15T09:05:23.038760Z",
     "shell.execute_reply.started": "2023-05-15T09:05:21.579790Z"
    }
   },
   "outputs": [],
   "source": [
    "class TransformerEncoder(layers.Layer):\n",
    "    def __init__(self, embed_dim, dense_dim, num_heads, **kwargs):\n",
    "        super().__init__(**kwargs)\n",
    "        self.embed_dim = embed_dim\n",
    "        self.dense_dim = dense_dim\n",
    "        self.num_heads = num_heads\n",
    "        self.attention = layers.MultiHeadAttention(num_heads=num_heads, key_dim=embed_dim)\n",
    "        self.dense_proj = keras.Sequential([layers.Dense(dense_dim, activation=\"relu\"), layers.Dense(embed_dim),])\n",
    "        self.layernorm_1 = layers.LayerNormalization()\n",
    "        self.layernorm_2 = layers.LayerNormalization()\n",
    "        self.attention_2 = layers.MultiHeadAttention(num_heads=1, key_dim=embed_dim)\n",
    "        self.supports_masking = True\n",
    "\n",
    "    def call(self, inputs, mask=None):\n",
    "        if mask is not None:\n",
    "            padding_mask = tf.cast(mask[:, tf.newaxis, :], dtype=\"int32\")\n",
    "        attention_output = self.attention(query=inputs, value=inputs, key=inputs, attention_mask=padding_mask)\n",
    "        proj_input = self.layernorm_1(inputs + attention_output)\n",
    "        att = self.attention_2(query=proj_input, value=proj_input, key=proj_input)\n",
    "        proj_output = self.dense_proj(att)\n",
    "        proj_output = self.dense_proj(proj_output)\n",
    "        return self.layernorm_2(proj_input + proj_output)\n",
    "\n",
    "\n",
    "class PositionalEmbedding(layers.Layer):\n",
    "    def __init__(self, sequence_length, vocab_size, embed_dim, **kwargs):\n",
    "        super().__init__(**kwargs)\n",
    "        self.token_embeddings = layers.Embedding(input_dim=vocab_size, output_dim=embed_dim)\n",
    "        self.position_embeddings = layers.Embedding(input_dim=sequence_length, output_dim=embed_dim)\n",
    "        self.sequence_length = sequence_length\n",
    "        self.vocab_size = vocab_size\n",
    "        self.embed_dim = embed_dim\n",
    "\n",
    "    def call(self, inputs):\n",
    "        length = tf.shape(inputs)[-1]\n",
    "        positions = tf.range(start=0, limit=length, delta=1)\n",
    "        embedded_tokens = self.token_embeddings(inputs)\n",
    "        embedded_positions = self.position_embeddings(positions)\n",
    "        return embedded_tokens + embedded_positions\n",
    "\n",
    "    def compute_mask(self, inputs, mask=None):\n",
    "        return tf.math.not_equal(inputs, 0)\n",
    "\n",
    "\n",
    "class TransformerDecoder(layers.Layer):\n",
    "    def __init__(self, embed_dim, latent_dim, num_heads, **kwargs):\n",
    "        super().__init__(**kwargs)\n",
    "        self.embed_dim = embed_dim\n",
    "        self.latent_dim = latent_dim\n",
    "        self.num_heads = num_heads\n",
    "        self.attention_1 = layers.MultiHeadAttention(num_heads=num_heads, key_dim=embed_dim)\n",
    "        self.attention_2 = layers.MultiHeadAttention(num_heads=num_heads, key_dim=embed_dim)\n",
    "        self.dense_proj = keras.Sequential([layers.Dense(latent_dim, activation=\"relu\"), layers.Dense(embed_dim),])\n",
    "        self.layernorm_1 = layers.LayerNormalization()\n",
    "        self.layernorm_2 = layers.LayerNormalization()\n",
    "        self.layernorm_3 = layers.LayerNormalization()\n",
    "        self.supports_masking = True\n",
    "\n",
    "    def call(self, inputs, encoder_outputs, mask=None):\n",
    "        causal_mask = self.get_causal_attention_mask(inputs)\n",
    "        if mask is not None:\n",
    "            padding_mask = tf.cast(mask[:, tf.newaxis, :], dtype=\"int32\")\n",
    "            padding_mask = tf.minimum(padding_mask, causal_mask)\n",
    "\n",
    "        attention_output_1 = self.attention_1(query=inputs, value=inputs, key=inputs, attention_mask=causal_mask)\n",
    "        out_1 = self.layernorm_1(inputs + attention_output_1)\n",
    "\n",
    "        attention_output_2 = self.attention_2(query=out_1,value=encoder_outputs,key=encoder_outputs,attention_mask=padding_mask,)\n",
    "        out_2 = self.layernorm_2(out_1 + attention_output_2)\n",
    "\n",
    "        proj_output = self.dense_proj(out_1)\n",
    "        return self.layernorm_3(out_2 + proj_output)\n",
    "\n",
    "    def get_causal_attention_mask(self, inputs):\n",
    "        input_shape = tf.shape(inputs)\n",
    "        batch_size, sequence_length = input_shape[0], input_shape[1]\n",
    "        i = tf.range(sequence_length)[:, tf.newaxis]\n",
    "        j = tf.range(sequence_length)\n",
    "        mask = tf.cast(i >= j, dtype=\"int32\")\n",
    "        mask = tf.reshape(mask, (1, input_shape[1], input_shape[1]))\n",
    "        mult = tf.concat(\n",
    "            [tf.expand_dims(batch_size, -1), tf.constant([1, 1], dtype=tf.int32)],\n",
    "            axis=0,\n",
    "        )\n",
    "        return tf.tile(mask, mult)\n",
    "    \n",
    "    \n",
    "embed_dim = 128\n",
    "latent_dim = 1024\n",
    "num_heads = 2\n",
    "\n",
    "encoder_inputs = keras.Input(shape=(None,), dtype=\"int64\", name=\"encoder_inputs\")\n",
    "x = PositionalEmbedding(sequence_length, vocab_size, embed_dim)(encoder_inputs)\n",
    "y = TransformerEncoder(embed_dim, latent_dim, num_heads)(x)\n",
    "encoder_outputs = TransformerEncoder(embed_dim, latent_dim, num_heads)(y)\n",
    "encoder = keras.Model(encoder_inputs, encoder_outputs)\n",
    "\n",
    "decoder_inputs = keras.Input(shape=(None,), dtype=\"int64\", name=\"decoder_inputs\")\n",
    "encoded_seq_inputs = keras.Input(shape=(None, embed_dim), name=\"decoder_state_inputs\")\n",
    "x = PositionalEmbedding(sequence_length, vocab_size, embed_dim)(decoder_inputs)\n",
    "x = TransformerDecoder(embed_dim, latent_dim, num_heads)(x, encoded_seq_inputs)\n",
    "x = layers.Dropout(0.5)(x)\n",
    "decoder_outputs = layers.Dense(vocab_size, activation=\"softmax\")(x)\n",
    "decoder = keras.Model([decoder_inputs, encoded_seq_inputs], decoder_outputs)\n",
    "\n",
    "decoder_outputs = decoder([decoder_inputs, encoder_outputs])\n",
    "transformer = keras.Model([encoder_inputs, decoder_inputs], decoder_outputs, name=\"transformer\")\n",
    "\n",
    "transformer.compile(\n",
    "    \"rmsprop\", loss=\"sparse_categorical_crossentropy\", metrics=[\"accuracy\"]\n",
    ")"
   ]
  },
  {
   "cell_type": "markdown",
   "id": "467b0aee",
   "metadata": {},
   "source": [
    "## 3.3. Entrena el modelo\n"
   ]
  },
  {
   "cell_type": "markdown",
   "id": "78c901a3",
   "metadata": {},
   "source": [
    "<div style=\"background-color: #EDF7FF; border-color: #7C9DBF; border-left: 5px solid #7C9DBF; padding: 0.5em;\">\n",
    "<p><strong>Ejercicio [1 pt.]:</strong> Entrena el modelo mostrando las gráficas de loss y accuracy. La accuracy no es una métricas que habitualmente se utilice en el entrenamiento de modelos de traducción. Lo habitual en este tipo de problemas sería utilizar la métrica BLEU basada en n-gramas (https://en.wikipedia.org/wiki/BLEU). Sin embargo, el bleu no está nativamente disponible en tensorflow para compilar el modelo así que como referencia se utilizará el accuracy que sería equivalente a la métrica de BLEU considerándo únicamente n-gramas de tamaño 1."
   ]
  },
  {
   "cell_type": "code",
   "execution_count": 65,
   "id": "cbc99f08",
   "metadata": {
    "execution": {
     "iopub.execute_input": "2023-05-15T09:05:35.029273Z",
     "iopub.status.busy": "2023-05-15T09:05:35.028610Z",
     "iopub.status.idle": "2023-05-15T09:05:35.035717Z",
     "shell.execute_reply": "2023-05-15T09:05:35.034662Z",
     "shell.execute_reply.started": "2023-05-15T09:05:35.029235Z"
    }
   },
   "outputs": [],
   "source": [
    "# Definición de callbacks\n",
    "timer_cb = TimerCallback()\n",
    "plot_cb = PlotLearning()\n",
    "earlystop_cb = EarlyStopping(monitor='val_loss', patience=5, restore_best_weights=True)\n",
    "reducelr_cb = ReduceLROnPlateau(monitor='val_loss', factor=0.5, patience=5)\n",
    "\n",
    "callbacks = [timer_cb, plot_cb, earlystop_cb, reducelr_cb]"
   ]
  },
  {
   "cell_type": "code",
   "execution_count": 66,
   "id": "0d207fb2",
   "metadata": {
    "execution": {
     "iopub.execute_input": "2023-05-15T09:05:37.172665Z",
     "iopub.status.busy": "2023-05-15T09:05:37.172272Z",
     "iopub.status.idle": "2023-05-15T09:24:12.834151Z",
     "shell.execute_reply": "2023-05-15T09:24:12.833070Z",
     "shell.execute_reply.started": "2023-05-15T09:05:37.172633Z"
    }
   },
   "outputs": [
    {
     "data": {
      "image/png": "[encoded data removed]",
      "text/plain": [
       "<Figure size 1000x400 with 2 Axes>"
      ]
     },
     "metadata": {},
     "output_type": "display_data"
    },
    {
     "name": "stdout",
     "output_type": "stream",
     "text": [
      "1250/1250 [==============================] - 71s 57ms/step - loss: 3.9909 - accuracy: 0.3975 - val_loss: 4.0848 - val_accuracy: 0.3914 - lr: 0.0010\n",
      "Entrenamiento completado en 1115.63 segundos\n",
      "Tiempo promedio por época: 652.09 segundos\n"
     ]
    }
   ],
   "source": [
    "history = transformer.fit(train_vectorized, epochs=50, validation_data=val_vectorized, callbacks=callbacks)"
   ]
  },
  {
   "cell_type": "markdown",
   "id": "793a6a6c",
   "metadata": {},
   "source": [
    "## 3.4. Realiza una predicción sobre el dataset de test.\n",
    "El modelo transformer es regresivo, esto quiere decir que para hacer la predicción se utiliza tanto el input de entrada como las predicciones ya realizadas. De hecho, este es uno de los principales motivos de las alucinaciones que sufren los modelos basados en transformers. "
   ]
  },
  {
   "cell_type": "markdown",
   "id": "0d70bdc3",
   "metadata": {},
   "source": [
    "<div style=\"background-color: #EDF7FF; border-color: #7C9DBF; border-left: 5px solid #7C9DBF; padding: 0.5em;\">\n",
    "<p><strong>Ejercicio [1 pt.]:</strong> Se proporciona una funcion para decodificar una frase con el modelo entrenado . Hacer las modificaciones oportunas e importar las funciones necesarias para calcular el Bleu score sobre un subconjunto del test, por ejemplo sobre 100 frases.\n",
    "\n",
    "Finalmente realiza alguna mejora a tu elección para conseguir un modelo con mejor Bleu (comprobándolo). Se puede añadir más datos al train, modificar la arquitectura, variar los hiperparámetros, etc. Se sugiere modificar el  dropout a un valor más habitual en la literatura. \n",
    "    \n",
    "Compara tus resultados con los que aparecen en la url de paperswithcode y comentalos."
   ]
  },
  {
   "cell_type": "code",
   "execution_count": 86,
   "id": "4867c250",
   "metadata": {
    "execution": {
     "iopub.execute_input": "2023-05-15T09:36:25.612467Z",
     "iopub.status.busy": "2023-05-15T09:36:25.612076Z",
     "iopub.status.idle": "2023-05-15T09:36:25.667519Z",
     "shell.execute_reply": "2023-05-15T09:36:25.666566Z",
     "shell.execute_reply.started": "2023-05-15T09:36:25.612435Z"
    }
   },
   "outputs": [],
   "source": [
    "###  Codigo proporcionado ############\n",
    "fr_vocab = fr_vectorization.get_vocabulary()\n",
    "fr_index_lookup = dict(zip(range(len(fr_vocab)), fr_vocab))\n",
    "max_decoded_sentence_length = 20\n",
    "\n",
    "\n",
    "def decode_sequence(input_sentence):\n",
    "    tokenized_input_sentence = eng_vectorization([input_sentence])\n",
    "    decoded_sentence = \"[start]\"\n",
    "    for i in range(max_decoded_sentence_length):\n",
    "        tokenized_target_sentence = fr_vectorization([decoded_sentence])[:, :-1]\n",
    "        predictions = transformer([tokenized_input_sentence, tokenized_target_sentence])\n",
    "\n",
    "        sampled_token_index = np.argmax(predictions[0, i, :])\n",
    "        sampled_token = fr_index_lookup[sampled_token_index]\n",
    "        decoded_sentence += \" \" + sampled_token\n",
    "\n",
    "        if sampled_token == \"[end]\":\n",
    "            break\n",
    "    return decoded_sentence"
   ]
  },
  {
   "cell_type": "code",
   "execution_count": 108,
   "id": "3c5cf98b",
   "metadata": {
    "execution": {
     "iopub.execute_input": "2023-05-15T10:54:28.612212Z",
     "iopub.status.busy": "2023-05-15T10:54:28.610939Z",
     "iopub.status.idle": "2023-05-15T11:00:00.617210Z",
     "shell.execute_reply": "2023-05-15T11:00:00.616135Z",
     "shell.execute_reply.started": "2023-05-15T10:54:28.612164Z"
    }
   },
   "outputs": [
    {
     "name": "stdout",
     "output_type": "stream",
     "text": [
      "BLEU Score: 0.025690013950474537\n"
     ]
    }
   ],
   "source": [
    "# Define the number of sentences to evaluate\n",
    "num_sentences = 100\n",
    "\n",
    "# Function to calculate BLEU score\n",
    "def calculate_bleu_score(data):\n",
    "    references = []\n",
    "    translations = []\n",
    "\n",
    "    for i in range(num_sentences):\n",
    "        input_sentence = data[i][0]  # English input sentence\n",
    "        target_sentence = data[i][1]  # Target (reference) sentence\n",
    "\n",
    "        # Decode the input sentence\n",
    "        decoded_sentence = decode_sequence(input_sentence)\n",
    "\n",
    "        # Store the reference and translation sentences for BLEU score calculation\n",
    "        references.append([target_sentence.split()])\n",
    "        translations.append(decoded_sentence.split())\n",
    "\n",
    "    # Calculate the BLEU score\n",
    "    bleu_score = bleu.corpus_bleu(references, translations)\n",
    "\n",
    "    return bleu_score\n",
    "\n",
    "# Calculate BLEU score on a subset of the test data\n",
    "test_subset = test_data[:num_sentences].tolist()\n",
    "bleu_score = calculate_bleu_score(test_subset)\n",
    "print(\"BLEU Score:\", bleu_score)"
   ]
  },
  {
   "cell_type": "markdown",
   "id": "ff037c3a",
   "metadata": {},
   "source": [
    "### 3.4.1 Mejora para conseguir mejor BLEU SCORE"
   ]
  },
  {
   "cell_type": "code",
   "execution_count": 99,
   "id": "b4f6294d",
   "metadata": {
    "execution": {
     "iopub.execute_input": "2023-05-15T09:59:38.611674Z",
     "iopub.status.busy": "2023-05-15T09:59:38.611297Z",
     "iopub.status.idle": "2023-05-15T09:59:43.868661Z",
     "shell.execute_reply": "2023-05-15T09:59:43.867784Z",
     "shell.execute_reply.started": "2023-05-15T09:59:38.611641Z"
    }
   },
   "outputs": [],
   "source": [
    "# Cargamos el doble de datos\n",
    "df = pd.read_csv('/kaggle/input/en-fr-translation-dataset/en-fr.csv', encoding='utf-8', header = 0, nrows=200000)\n",
    "\n",
    "# Comprobamos si no existen nulos\n",
    "df = df[df['en'].notnull()]\n",
    "df = df[df['fr'].notnull()]\n",
    "\n",
    "#Limpieza\n",
    "df['en'] = df['en'].apply(lambda x: limpieza_estandarizacion_ampliado(x, 'en'))\n",
    "df['fr'] = df['fr'].apply(lambda x: limpieza_estandarizacion_ampliado(x, 'fr'))"
   ]
  },
  {
   "cell_type": "code",
   "execution_count": 100,
   "id": "5ba9590a",
   "metadata": {
    "execution": {
     "iopub.execute_input": "2023-05-15T10:01:48.730842Z",
     "iopub.status.busy": "2023-05-15T10:01:48.730436Z",
     "iopub.status.idle": "2023-05-15T10:01:53.890935Z",
     "shell.execute_reply": "2023-05-15T10:01:53.889964Z",
     "shell.execute_reply.started": "2023-05-15T10:01:48.730809Z"
    }
   },
   "outputs": [],
   "source": [
    "# Añadimos caracteres especiales\n",
    "def f(english, french):\n",
    "    return (f'{english}', f'[start] {french} [end]' )\n",
    "\n",
    "df['procesado'] = df.apply(lambda x: f(x.en, x.fr), axis=1)"
   ]
  },
  {
   "cell_type": "code",
   "execution_count": 101,
   "id": "24c649b4",
   "metadata": {
    "execution": {
     "iopub.execute_input": "2023-05-15T10:02:00.310543Z",
     "iopub.status.busy": "2023-05-15T10:02:00.310175Z",
     "iopub.status.idle": "2023-05-15T10:02:00.330984Z",
     "shell.execute_reply": "2023-05-15T10:02:00.329916Z",
     "shell.execute_reply.started": "2023-05-15T10:02:00.310512Z"
    }
   },
   "outputs": [
    {
     "data": {
      "text/html": [
       "<div>\n",
       "<style scoped>\n",
       "    .dataframe tbody tr th:only-of-type {\n",
       "        vertical-align: middle;\n",
       "    }\n",
       "\n",
       "    .dataframe tbody tr th {\n",
       "        vertical-align: top;\n",
       "    }\n",
       "\n",
       "    .dataframe thead th {\n",
       "        text-align: right;\n",
       "    }\n",
       "</style>\n",
       "<table border=\"1\" class=\"dataframe\">\n",
       "  <thead>\n",
       "    <tr style=\"text-align: right;\">\n",
       "      <th></th>\n",
       "      <th>en</th>\n",
       "      <th>fr</th>\n",
       "      <th>procesado</th>\n",
       "    </tr>\n",
       "  </thead>\n",
       "  <tbody>\n",
       "    <tr>\n",
       "      <th>0</th>\n",
       "      <td>changing lives  changing society  how it works...</td>\n",
       "      <td>il a transformé notre vie  il a transformé la ...</td>\n",
       "      <td>(changing lives  changing society  how it work...</td>\n",
       "    </tr>\n",
       "    <tr>\n",
       "      <th>1</th>\n",
       "      <td>site map</td>\n",
       "      <td>plan du site</td>\n",
       "      <td>(site map, [start] plan du site [end])</td>\n",
       "    </tr>\n",
       "    <tr>\n",
       "      <th>2</th>\n",
       "      <td>feedback</td>\n",
       "      <td>rétroaction</td>\n",
       "      <td>(feedback, [start] rétroaction [end])</td>\n",
       "    </tr>\n",
       "    <tr>\n",
       "      <th>3</th>\n",
       "      <td>credits</td>\n",
       "      <td>crédits</td>\n",
       "      <td>(credits, [start] crédits [end])</td>\n",
       "    </tr>\n",
       "    <tr>\n",
       "      <th>4</th>\n",
       "      <td>français</td>\n",
       "      <td>english</td>\n",
       "      <td>(français, [start] english [end])</td>\n",
       "    </tr>\n",
       "  </tbody>\n",
       "</table>\n",
       "</div>"
      ],
      "text/plain": [
       "                                                  en  \\\n",
       "0  changing lives  changing society  how it works...   \n",
       "1                                           site map   \n",
       "2                                           feedback   \n",
       "3                                            credits   \n",
       "4                                           français   \n",
       "\n",
       "                                                  fr  \\\n",
       "0  il a transformé notre vie  il a transformé la ...   \n",
       "1                                       plan du site   \n",
       "2                                        rétroaction   \n",
       "3                                            crédits   \n",
       "4                                            english   \n",
       "\n",
       "                                           procesado  \n",
       "0  (changing lives  changing society  how it work...  \n",
       "1             (site map, [start] plan du site [end])  \n",
       "2              (feedback, [start] rétroaction [end])  \n",
       "3                   (credits, [start] crédits [end])  \n",
       "4                  (français, [start] english [end])  "
      ]
     },
     "execution_count": 101,
     "metadata": {},
     "output_type": "execute_result"
    }
   ],
   "source": [
    "# Mostrar datos procesados\n",
    "df.head()"
   ]
  },
  {
   "cell_type": "code",
   "execution_count": 102,
   "id": "29acd4f7",
   "metadata": {
    "execution": {
     "iopub.execute_input": "2023-05-15T10:02:05.852153Z",
     "iopub.status.busy": "2023-05-15T10:02:05.851685Z",
     "iopub.status.idle": "2023-05-15T10:02:05.859272Z",
     "shell.execute_reply": "2023-05-15T10:02:05.858298Z",
     "shell.execute_reply.started": "2023-05-15T10:02:05.852120Z"
    }
   },
   "outputs": [
    {
     "name": "stdout",
     "output_type": "stream",
     "text": [
      "Tamaño de train_data: 159998\n",
      "Tamaño de test_data: 40000\n"
     ]
    }
   ],
   "source": [
    "# Calcular los índices para cada subconjunto\n",
    "train_index = int(len(df['procesado']) * 0.8)\n",
    "\n",
    "# Dividir los datos en los subconjuntos\n",
    "xl = df['procesado']\n",
    "train_data = xl[:train_index]\n",
    "test_data = xl[train_index:]\n",
    "\n",
    "# Mostrar el tamaño de train_data, test_data y val_data\n",
    "print(f\"Tamaño de train_data: {len(train_data)}\")\n",
    "print(f\"Tamaño de test_data: {len(test_data)}\")"
   ]
  },
  {
   "cell_type": "code",
   "execution_count": 104,
   "id": "1488b02b",
   "metadata": {
    "execution": {
     "iopub.execute_input": "2023-05-15T10:03:48.242947Z",
     "iopub.status.busy": "2023-05-15T10:03:48.242472Z",
     "iopub.status.idle": "2023-05-15T10:04:33.160678Z",
     "shell.execute_reply": "2023-05-15T10:04:33.159667Z",
     "shell.execute_reply.started": "2023-05-15T10:03:48.242910Z"
    }
   },
   "outputs": [],
   "source": [
    "# Duplicamos el vocabulario y el tamaño de secuencia \n",
    "\n",
    "vocab_size = 30000\n",
    "sequence_length = 40\n",
    "batch_size = 64\n",
    "\n",
    "eng_vectorization = TextVectorization(max_tokens=vocab_size, output_mode=\"int\", output_sequence_length=sequence_length,)\n",
    "fr_vectorization = TextVectorization(max_tokens=vocab_size,output_mode=\"int\",output_sequence_length=sequence_length + 1,)\n",
    "\n",
    "train_eng_texts = [pair[0] for pair in train_data]\n",
    "train_fr_texts = [pair[1] for pair in train_data]\n",
    "\n",
    "eng_vectorization.adapt(train_eng_texts)\n",
    "fr_vectorization.adapt(train_fr_texts)\n",
    "\n",
    "\n",
    "\n",
    "def format_dataset(eng, fr):\n",
    "    eng = eng_vectorization(eng)\n",
    "    fr = fr_vectorization(fr)\n",
    "    return ({\"encoder_inputs\": eng, \"decoder_inputs\": fr[:, :-1],}, fr[:, 1:])\n",
    "\n",
    "\n",
    "def make_dataset(pairs):\n",
    "    eng_texts, fr_texts = zip(*pairs)\n",
    "    eng_texts = list(eng_texts)\n",
    "    fr_texts = list(fr_texts)\n",
    "    dataset = tf.data.Dataset.from_tensor_slices((eng_texts, fr_texts))\n",
    "    dataset = dataset.batch(batch_size)\n",
    "    dataset = dataset.map(format_dataset)\n",
    "    return dataset.shuffle(2048).prefetch(16).cache()\n",
    "\n",
    "\n",
    "train_vectorized = make_dataset(train_data)\n",
    "val_vectorized = make_dataset(test_data)"
   ]
  },
  {
   "cell_type": "code",
   "execution_count": 105,
   "id": "b7034906",
   "metadata": {
    "execution": {
     "iopub.execute_input": "2023-05-15T10:04:38.691492Z",
     "iopub.status.busy": "2023-05-15T10:04:38.690730Z",
     "iopub.status.idle": "2023-05-15T10:04:41.196423Z",
     "shell.execute_reply": "2023-05-15T10:04:41.195361Z",
     "shell.execute_reply.started": "2023-05-15T10:04:38.691457Z"
    }
   },
   "outputs": [],
   "source": [
    "# Creamos modelo pero ahora con un Dropout a 0.1\n",
    "embed_dim = 128\n",
    "latent_dim = 1024\n",
    "num_heads = 2\n",
    "\n",
    "encoder_inputs = keras.Input(shape=(None,), dtype=\"int64\", name=\"encoder_inputs\")\n",
    "x = PositionalEmbedding(sequence_length, vocab_size, embed_dim)(encoder_inputs)\n",
    "y = TransformerEncoder(embed_dim, latent_dim, num_heads)(x)\n",
    "encoder_outputs = TransformerEncoder(embed_dim, latent_dim, num_heads)(y)\n",
    "encoder = keras.Model(encoder_inputs, encoder_outputs)\n",
    "\n",
    "decoder_inputs = keras.Input(shape=(None,), dtype=\"int64\", name=\"decoder_inputs\")\n",
    "encoded_seq_inputs = keras.Input(shape=(None, embed_dim), name=\"decoder_state_inputs\")\n",
    "x = PositionalEmbedding(sequence_length, vocab_size, embed_dim)(decoder_inputs)\n",
    "x = TransformerDecoder(embed_dim, latent_dim, num_heads)(x, encoded_seq_inputs)\n",
    "x = layers.Dropout(0.1)(x)\n",
    "decoder_outputs = layers.Dense(vocab_size, activation=\"softmax\")(x)\n",
    "decoder = keras.Model([decoder_inputs, encoded_seq_inputs], decoder_outputs)\n",
    "\n",
    "decoder_outputs = decoder([decoder_inputs, encoder_outputs])\n",
    "transformer = keras.Model([encoder_inputs, decoder_inputs], decoder_outputs, name=\"transformer\")\n",
    "\n",
    "transformer.compile(\n",
    "    \"rmsprop\", loss=\"sparse_categorical_crossentropy\", metrics=[\"accuracy\"]\n",
    ")"
   ]
  },
  {
   "cell_type": "code",
   "execution_count": 106,
   "id": "ea8ea4d8",
   "metadata": {
    "execution": {
     "iopub.execute_input": "2023-05-15T10:04:54.958543Z",
     "iopub.status.busy": "2023-05-15T10:04:54.958137Z",
     "iopub.status.idle": "2023-05-15T10:54:13.026655Z",
     "shell.execute_reply": "2023-05-15T10:54:13.025628Z",
     "shell.execute_reply.started": "2023-05-15T10:04:54.958507Z"
    }
   },
   "outputs": [
    {
     "data": {
      "image/png": "[encoded data removed]",
      "text/plain": [
       "<Figure size 1000x400 with 2 Axes>"
      ]
     },
     "metadata": {},
     "output_type": "display_data"
    },
    {
     "name": "stdout",
     "output_type": "stream",
     "text": [
      "2500/2500 [==============================] - 273s 109ms/step - loss: 3.3011 - accuracy: 0.4613 - val_loss: 4.2814 - val_accuracy: 0.3324 - lr: 0.0010\n",
      "Entrenamiento completado en 2958.04 segundos\n",
      "Tiempo promedio por época: 1106.76 segundos\n"
     ]
    }
   ],
   "source": [
    "#Entrenamos de nuevo modelo\n",
    "history = transformer.fit(train_vectorized, epochs=50, validation_data=val_vectorized, callbacks=callbacks)"
   ]
  },
  {
   "cell_type": "code",
   "execution_count": 107,
   "id": "b902cc40",
   "metadata": {
    "execution": {
     "iopub.execute_input": "2023-05-15T10:54:25.419758Z",
     "iopub.status.busy": "2023-05-15T10:54:25.419363Z",
     "iopub.status.idle": "2023-05-15T10:54:25.517404Z",
     "shell.execute_reply": "2023-05-15T10:54:25.516416Z",
     "shell.execute_reply.started": "2023-05-15T10:54:25.419707Z"
    }
   },
   "outputs": [],
   "source": [
    "### Ajustamos el código proporcionado\n",
    "fr_vocab = fr_vectorization.get_vocabulary()\n",
    "fr_index_lookup = dict(zip(range(len(fr_vocab)), fr_vocab))\n",
    "max_decoded_sentence_length = 40\n",
    "\n",
    "\n",
    "def decode_sequence(input_sentence):\n",
    "    tokenized_input_sentence = eng_vectorization([input_sentence])\n",
    "    decoded_sentence = \"[start]\"\n",
    "    for i in range(max_decoded_sentence_length):\n",
    "        tokenized_target_sentence = fr_vectorization([decoded_sentence])[:, :-1]\n",
    "        predictions = transformer([tokenized_input_sentence, tokenized_target_sentence])\n",
    "\n",
    "        sampled_token_index = np.argmax(predictions[0, i, :])\n",
    "        sampled_token = fr_index_lookup[sampled_token_index]\n",
    "        decoded_sentence += \" \" + sampled_token\n",
    "\n",
    "        if sampled_token == \"[end]\":\n",
    "            break\n",
    "    return decoded_sentence"
   ]
  },
  {
   "cell_type": "code",
   "execution_count": 96,
   "id": "76541072",
   "metadata": {
    "execution": {
     "iopub.execute_input": "2023-05-15T09:50:57.673160Z",
     "iopub.status.busy": "2023-05-15T09:50:57.672799Z",
     "iopub.status.idle": "2023-05-15T09:53:50.188021Z",
     "shell.execute_reply": "2023-05-15T09:53:50.186801Z",
     "shell.execute_reply.started": "2023-05-15T09:50:57.673130Z"
    },
    "jupyter": {
     "outputs_hidden": true
    },
    "scrolled": false
   },
   "outputs": [
    {
     "name": "stdout",
     "output_type": "stream",
     "text": [
      "\n",
      "\n",
      "Input_sentence: safety on the south coast  new coast guard station commissioned in burgeo    national defence \n",
      "\n",
      "[start] sécurité de la sécurité de la côte du sud de la côte du [UNK] en la côte est [UNK] end\n",
      "\n",
      "\n",
      "Input_sentence: canada  united states defence relations    national defence \n",
      "\n",
      "[start] relations commerciales en matière de commerce international canada end  end end end end end end end end end end\n",
      "\n",
      "\n",
      "Input_sentence: second world war veteran receives compensation    national defence \n",
      "\n",
      "[start] deuxième monde la après [UNK] de la propriété intellectuelle du monde end  end end end end end end end\n",
      "\n",
      "\n",
      "Input_sentence: air crews engaged in aerial combat resupply drops    national defence \n",
      "\n",
      "[start] les membres de la [UNK] de la [UNK] de [UNK] de [UNK] [UNK] end  [UNK] end end end end\n",
      "\n",
      "\n",
      "Input_sentence: oil and gas prices taxes and consumers tax bulletin     message from her excellency the right honourable michaëlle jean governor general and commanderinchief of canada on the death of major paeta derek hessvon kruedener    health canada \n",
      "\n",
      "[start] le prix de la consommation de produits de la santé et de la santé et de la très honorable michaëlle\n",
      "\n",
      "\n",
      "Input_sentence: government of canada launches new web site on access to medicines for developing nations    office of the commissioner of official languages \n",
      "\n",
      "[start] le gouvernement du canada doit être [UNK] sur laccès à des programmes de santé pour les pays end  end\n",
      "\n",
      "\n",
      "Input_sentence: proactive disclosure of contracts over     office of the commissioner of official languages \n",
      "\n",
      "[start] preuve de communication de la preuve bureau de la preuve de la communication de la preuve de la preuve de\n",
      "\n",
      "\n",
      "Input_sentence: disclosure of position reclassifications    royal canadian mounted police \n",
      "\n",
      "[start] preuve de communication de la preuve de la preuve end  end end end end end end end end end\n",
      "\n",
      "\n",
      "Input_sentence: disclosure of position reclassifications    treasury board of canada secretariat \n",
      "\n",
      "[start] preuve de communication de la preuve du conseil du trésor du canada end  end end end end end end\n",
      "\n",
      "\n",
      "Input_sentence: other bargaining agents     transport canada \n",
      "\n",
      "[start] autres agents de transport end  end end end end end end end end end end end end end end\n",
      "\n",
      "\n",
      "Input_sentence: canadian vehicle enhancements to be made through agreements with manufacturers    natural resources canada \n",
      "\n",
      "[start] les [UNK] de [UNK] de [UNK] par les ententes de fabricants canadiens par le canada end  end end end\n",
      "\n",
      "\n",
      "Input_sentence: government of canada supports opéra de montréal    canadian heritage \n",
      "\n",
      "[start] le gouvernement du canada aide de [UNK] de la [UNK] end  end end end end end end end end\n",
      "\n",
      "\n",
      "Input_sentence:  setting up specialized court proceedings to provide a way for parties to deal expeditiously with all matters pertaining to disclosure including relevance \n",
      "\n",
      "[start] en raison de la cour suprême du tribunal a pour les parties de la façon à tous les parties de\n",
      "\n",
      "\n",
      "Input_sentence: immigration measures to help reunite families affected by lebanon conflict    canada mortgage and housing corporation \n",
      "\n",
      "[start] les mesures de développement [UNK] des familles par les [UNK] de la [UNK] de la société canadienne dinspection et de\n",
      "\n",
      "\n",
      "Input_sentence: opening event for river ridge and start of renovation ceremony for canadian woollens    canadian nuclear safety commission \n",
      "\n",
      "[start] salon de la [UNK] de la [UNK] et de la [UNK] de la [UNK] de la sécurité de la sécurité\n",
      "\n",
      "\n",
      "Input_sentence: cnsc announces decision on a financial guarantee for the future decommissioning of mds nordions class ib nuclear substance processing facility    competition bureau canada \n",
      "\n",
      "[start] la [UNK] de la décision de la décision de lavenir de [UNK] pour les [UNK] [UNK] [UNK] [UNK] [UNK] [UNK]\n",
      "\n",
      "\n",
      "Input_sentence: legislative services branch objective \n",
      "\n",
      "[start] [UNK] end  end end end end end end end end end end end end end end end end end\n",
      "\n",
      "\n",
      "Input_sentence: crtc issues its  telecom monitoring report    foreign affairs and international trade canada \n",
      "\n",
      "[start] [UNK] [UNK] [UNK] [UNK] [UNK] rapport sur le passé le présent et lavenir end  end end end end end\n",
      "\n",
      "\n",
      "Input_sentence: report on world trade in services    human resources and social development canada \n",
      "\n",
      "[start] rapport sur le commerce international des services de commerce et de services de développement social end  end end end\n",
      "\n",
      "\n",
      "Input_sentence: graftonfraser pays  million to settle misleading advertising case with competition bureau    telefilm canada \n",
      "\n",
      "[start] [UNK] [UNK] millions de dollars en [UNK] [UNK] [UNK] la concurrence avec le bureau du canada end  end end\n",
      "\n",
      "\n",
      "Input_sentence: canadamanitoba economic partnership invests in vehicle technology    natural resources canada \n",
      "\n",
      "[start] [UNK] économique [UNK] de la [UNK] de la technologie de [UNK] end  end end end end end end end\n",
      "\n",
      "\n",
      "Input_sentence: the daily top of page    canada border services agency \n",
      "\n",
      "[start] le quotidien haut de la page end  end end end end end end end end end end end end\n",
      "\n",
      "\n",
      "Input_sentence: wood packaging    canadian environmental assessment agency \n",
      "\n",
      "[start] [UNK] de la commission canadienne des aliments de la commission canadienne des aliments end  end end end end end\n",
      "\n",
      "\n",
      "Input_sentence: public comments invited on model class screening report  licensing of ecotourism related businesses operating within pacific rim national park reserve of canada    canadian environmental assessment agency \n",
      "\n",
      "[start] le public est un modèle de rapport sur les permis de rapport sur les [UNK] de la [UNK] [UNK] et\n",
      "\n",
      "\n",
      "Input_sentence: public comments invited on replacement class screening report  routine inwater works project along the rideau canal and the trentsevern waterway    canadian food inspection agency \n",
      "\n",
      "[start] le public est le principal producteur de rapport sur le rapport sur le projet de rapport sur le projet de\n",
      "\n",
      "\n",
      "Input_sentence: full implementation of wood packaging import requirements    canadian heritage \n",
      "\n",
      "[start] la mise en uvre de limportation de produits de la mise en uvre de la mise en uvre de limportation\n",
      "\n",
      "\n",
      "Input_sentence: canadas new government supports galerie dart jeanclaude bergeron    canadian heritage \n",
      "\n",
      "[start] le nouveau gouvernement du canada atlantique [UNK] [UNK] [UNK] end  [UNK] end end end end end end end end\n",
      "\n",
      "\n",
      "Input_sentence: government response to request for funding from an aboriginal organization    canadian heritage \n",
      "\n",
      "[start] gouvernement du canada demande de financement pour les autochtones et [UNK] de lorganisation du ministère de la justice du canada\n",
      "\n",
      "\n",
      "Input_sentence: canadas new government announces contribution to canada sports hall of fame    canada mortgage and housing corporation \n",
      "\n",
      "[start] le nouveau gouvernement du canada investit pour le canada pour la commission de la [UNK] de la société canadienne de\n",
      "\n",
      "\n",
      "Input_sentence: opening ceremony for clarendon court    canada mortgage and housing corporation \n",
      "\n",
      "[start] [UNK] [UNK] pour les [UNK] du canada end  et et end end end end end end end end end\n",
      "\n",
      "\n",
      "Input_sentence: start of construction for niagara falls masonry contractors ltd \n",
      "\n",
      "[start] [UNK] de la [UNK] pour le [UNK] [UNK] end  end end end end end end end end end end\n",
      "\n",
      "\n",
      "Input_sentence: project    canada post \n",
      "\n",
      "[start] projet de santé end  end end end end end end end end end end end end end end end\n",
      "\n",
      "\n",
      "Input_sentence: canada post announces new shipping solution    canada post \n",
      "\n",
      "[start] le canada a été [UNK] de nouveaux produits end  end end end end end end end end end end\n",
      "\n",
      "\n",
      "Input_sentence: canada post celebrates the lure of the wild with a new series of four duck decoy stamps    foreign affairs canada \n",
      "\n",
      "[start] le canada est le [UNK] de la [UNK] de son nouveau gouvernement de quatre [UNK] de [UNK] [UNK] de [UNK]\n",
      "\n",
      "\n",
      "Input_sentence: the release of the gomery commission reports the auditor generals may  report the increasing role of evaluation in the expenditure management process recent changes to the government policy on internal audit and the enactment of the federal accountability act are all recent factors that are likely to affect the environment for evaluation in  \n",
      "\n",
      "[start] la commission de la [UNK] des rapports sur le rapport du conseil du la justice du rôle du rôle du\n",
      "\n",
      "\n",
      "Input_sentence: closed areas for shellfish harvesting north shore    national defence \n",
      "\n",
      "[start] [UNK] de [UNK] de la pêche de la pêche de la pêche de la pêche end  end end end\n",
      "\n",
      "\n",
      "Input_sentence: more highway webcams improve information for travellers    western economic diversification canada \n",
      "\n",
      "[start] plus de [UNK] [UNK] de linformation sur le gouvernement du canada end  end end end end end end end\n",
      "\n",
      "\n",
      "Input_sentence: government of canada supports green buildings    natural resources canada \n",
      "\n",
      "[start] le gouvernement du canada est [UNK] ressources naturelles canada end  de end end end end end end end end\n",
      "\n",
      "\n",
      "Input_sentence: the problem could also be mitigated to some degree by keeping the existing offices intact and appointing a single commissioner to preside over both \n",
      "\n",
      "[start] le problème pourrait également être [UNK] pour certains [UNK] par les parties de la [UNK] et de la [UNK] end\n",
      "\n",
      "\n",
      "Input_sentence: criminal gang member removed from canada    canadian food inspection agency \n",
      "\n",
      "[start] [UNK] [UNK] [UNK] [UNK] du canada agence canadienne dinspection des aliments end  end end end end end end end\n",
      "\n",
      "\n",
      "Input_sentence: update  allergy alert  undeclared milk protein in gold choice brand instant tongkat ali ginseng coffee premix    canadian heritage \n",
      "\n",
      "[start] mise en uvre de mise en uvre de de marque de marque de lait en marque [UNK] [UNK] [UNK] [UNK]\n",
      "\n",
      "\n",
      "Input_sentence: canadas new government provides support for internet users to discover acadian forest    canada post \n",
      "\n",
      "[start] le nouveau gouvernement du canada fournit des nouveaux acheteurs pour internet [UNK] [UNK] end  [UNK] end end end end\n",
      "\n",
      "\n",
      "Input_sentence: and the canada post literacy awards finalists are    national defence \n",
      "\n",
      "[start] et les produits de la mer de la [UNK] sont [UNK] end  end end end end end end end\n",
      "\n",
      "\n",
      "Input_sentence: valcartier griffon squadron honoured for quick response in haiti    renovations at library and archives canada in ottawa    call for nominations for the national arts centre award for distinguished contribution to touring    the right honourable stephen harper prime minister of canada announces agreement to compensate prepost hepatitis c victims    statement from the honourable stockwell day minister of public safety and emergency preparedness on the death of constable marc bourdages    status of women canada \n",
      "\n",
      "[start] [UNK] [UNK] [UNK] [UNK] pour les [UNK] en matière de [UNK] [UNK] de [UNK] et de [UNK] de la justice\n",
      "\n",
      "\n",
      "Input_sentence:  the auditor general estimated that since   of cases were settled  in early resolution or in investigation and  in conciliation after investigation adding an average of  months to the time for the investigation resulting in a  month period for the processing of complaints \n",
      "\n",
      "[start] les affaires étrangères et du canada depuis la justice a été [UNK] en [UNK] ou en [UNK] et en [UNK]\n",
      "\n",
      "\n",
      "Input_sentence: should such amendments be limited to large and complex cases  \n",
      "\n",
      "[start] les devraient être [UNK] de la [UNK] et des [UNK] end  et end end end end end end end\n",
      "\n",
      "\n",
      "Input_sentence: the crown must disclose all relevant information to the accused whether inculpatory or exculpatory subject to the exercise of the crowns discretion to refuse to disclose information that is privileged or plainly irrelevant \n",
      "\n",
      "[start] le ministère de la justice doit être [UNK] pour les renseignements sur le [UNK] ou la [UNK] ou le [UNK]\n",
      "\n",
      "\n",
      "Input_sentence: government of canada expresses disappointment at the suspension of world trade organization doha development negotiations    canadian food inspection agency \n",
      "\n",
      "[start] gouvernement du canada [UNK] [UNK] au [UNK] au monde des produits agricoles de lorganisation mondiale du développement des produits alimentaires\n",
      "\n",
      "\n",
      "Input_sentence: ontario company fined  for an offence under the food and drugs act    canadian food inspection agency \n",
      "\n",
      "[start] ontario [UNK] [UNK] pour un droit de la loi sur les aliments et les aliments et les aliments de ontario\n",
      "\n",
      "\n",
      "Input_sentence: allergy alert update  undeclared milk protein in coffeeking american flavour  in  coffeemix    canadian international development agency th annual canadian awards for international cooperation    canada mortgage and housing corporation \n",
      "\n",
      "[start] mise en uvre de mise en uvre de de la [UNK] de la [UNK] en lait en gras est de\n",
      "\n",
      "\n",
      "Input_sentence: adoptabird a new fundraising initiative    canadian nuclear safety commission  canadian workshop on the draft international commission on radiological protection recommendations    fisheries and oceans canada \n",
      "\n",
      "[start] [UNK] a [UNK] nouveau programme de la sécurité publique du canada [UNK] [UNK] [UNK] [UNK] [UNK] [UNK] [UNK] [UNK] [UNK]\n",
      "\n",
      "\n",
      "Input_sentence: van kesteren announces dredging at commercial fishing harbour in erieau    national defence \n",
      "\n",
      "[start] [UNK] [UNK] [UNK] [UNK] [UNK] [UNK] [UNK] [UNK] end  [UNK] [UNK] end end end end [UNK] end end end\n",
      "\n",
      "\n",
      "Input_sentence: picture perfect training for canadian air force in hawaii    finance canada \n",
      "\n",
      "[start] un [UNK] de la formation du canada en [UNK] end  end end end end end end end end end\n",
      "\n",
      "\n",
      "Input_sentence: framing canada  phase two    natural resources canada \n",
      "\n",
      "[start] [UNK] canada [UNK] deux de ressources naturelles canada end  end end end end end end end end end end\n",
      "\n",
      "\n",
      "Input_sentence: summer tips for your home    natural resources canada \n",
      "\n",
      "[start] conseils de développement des conseils de votre [UNK] end  end end end end end end end end end end\n",
      "\n",
      "\n",
      "Input_sentence: file  r title \n",
      "\n",
      "[start] no de no [UNK] titre [UNK] titre [UNK] titre [UNK] titre [UNK] titre [UNK] end  end end end end\n",
      "\n",
      "\n",
      "Input_sentence: police dog killed in the line of duty  baltimore nb    standards council of canada \n",
      "\n",
      "[start] la [UNK] est un [UNK] en ligne de la gamme de produits de la gamme de produits de la [UNK]\n",
      "\n",
      "\n",
      "Input_sentence: call for interest  international standard proposed for fisheries and aquaculture    service canada th canadian skills competition    treasury board of canada secretariat \n",
      "\n",
      "[start] [UNK] pour les produits canadiens en matière de pêche en matière de pêche en pêches et de laquaculture du canada\n",
      "\n",
      "\n",
      "Input_sentence: list of compensation standard benefits letters modified as a result of changes posted on july      treasury board of canada secretariat \n",
      "\n",
      "[start] liste des produits de la propriété intellectuelle du canada pour les avantages de la liste des changements climatiques juillet end\n",
      "\n",
      "\n",
      "Input_sentence: rates of pay for the public service of canada    western economic diversification canada \n",
      "\n",
      "[start] taux de [UNK] pour le ministère de la sécurité publique du canada end  end de end end end end\n",
      "\n",
      "\n",
      "Input_sentence: governments partner with first nations to develop new cultural centre    natural resources canada \n",
      "\n",
      "[start] le gouvernement du canada a été [UNK] de la première fois de la première fois de la première ressources naturelles\n",
      "\n",
      "\n",
      "Input_sentence: canadas new government to meet with farmers on marketing choice for wheat and barley    canadian food inspection agency \n",
      "\n",
      "[start] le nouveau gouvernement du canada a été [UNK] pour les producteurs de produits de la commercialisation et de produits de\n",
      "\n",
      "\n",
      "Input_sentence: allergy alert  undeclared milk protein in coffeeking american flavour  in  coffeemix    canadian food inspection agency \n",
      "\n",
      "[start] cliquez ici de lait de viande en gras [UNK] [UNK] [UNK] [UNK] [UNK] agence canadienne dinspection des aliments end \n",
      "\n",
      "\n",
      "Input_sentence: allergy alert  undeclared milk protein in gold choice brand instant tongkat ali ginseng coffee premix    canadian heritage \n",
      "\n",
      "[start] cliquez ici de lait de viande en marque [UNK] [UNK] [UNK] [UNK] [UNK] [UNK] [UNK] [UNK] [UNK] [UNK] [UNK] [UNK]\n",
      "\n",
      "\n",
      "Input_sentence: confederation centre of the arts receives support from canadas new government    canadian international development agency \n",
      "\n",
      "[start] la [UNK] de la [UNK] est un soutien du canada de la commission canadienne de la justice du canada end\n",
      "\n",
      "\n",
      "Input_sentence: the honourable josée verner minister of international cooperation and minister for la francophonie and official languages today welcomed evacuees to montréal    canada mortgage and housing corporation \n",
      "\n",
      "[start] lhonorable chuck strahl ministre de la [UNK] et de la coopération internationale pour la justice et les langues officielles et\n",
      "\n",
      "\n",
      "Input_sentence: funding announcement for the north end housing project    national defence \n",
      "\n",
      "[start] le financement de la [UNK] de la fin de la défense nationale end  end end end end end end\n",
      "\n",
      "\n",
      "Input_sentence: two canadian soldiers killed eight wounded in afghanistan    national defence \n",
      "\n",
      "[start] deux canadiens [UNK] [UNK] huit [UNK] en afghanistan nationale end  end end end end end end end end end\n",
      "\n",
      "\n",
      "Input_sentence: statement by the minister of national defence on the passing of corporal francisco gomez and corporal jason patrick warren    national defence \n",
      "\n",
      "[start] déclaration du ministre de la justice du canada sur le [UNK] et le [UNK] [UNK] [UNK] [UNK] [UNK] [UNK] [UNK]\n",
      "\n",
      "\n",
      "Input_sentence: norman mclarens genius lives on at toronto international film festival retrospective    public health agency of canada \n",
      "\n",
      "[start] [UNK] [UNK] [UNK] de la vie de toronto [UNK] international [UNK] [UNK] [UNK] [UNK] agence de santé publique du canada\n",
      "\n",
      "\n",
      "Input_sentence: travel health advisory  malaria on great exuma island in the bahamas    public safety and emergency preparedness canada \n",
      "\n",
      "[start] conseils de santé aux voyageurs [UNK] [UNK] [UNK] dans le cadre de la sécurité publique et de la sécurité publique\n",
      "\n",
      "\n",
      "Input_sentence: statement from public safety minister stockwell day on the death of constable robin cameron    natural resources canada \n",
      "\n",
      "[start] déclaration du public de sécurité publique du canada sur les [UNK] de la [UNK] [UNK] [UNK] ressources naturelles canada end\n",
      "\n",
      "\n",
      "Input_sentence: the division undertakes evaluation of departmental programs policies and initiatives in accordance with the departmental and government evaluation policies see appendix a \n",
      "\n",
      "[start] la division de lévaluation des programmes de lévaluation et des politiques et des politiques de développement du gouvernement et de\n",
      "\n",
      "\n",
      "Input_sentence: the investigative hearing provisions in section  and  allow a police officer for purposes of an investigation of a terrorism offence to apply ex parte to a judge for an order to gather information relevant to that investigation \n",
      "\n",
      "[start] les dispositions relatives à dispositions relatives à larticle de la justice et à la personne et à une commission de\n",
      "\n",
      "\n",
      "Input_sentence: determination of the safety of bayer cropsciences glufosinate ammonium tolerant rice oryza sativa event llrice    canadian international development agency \n",
      "\n",
      "[start] conseil de la sécurité de la sécurité de la sécurité [UNK] [UNK] [UNK] [UNK] [UNK] [UNK] [UNK] agence canadienne de\n",
      "\n",
      "\n",
      "Input_sentence: the government of canada announces immediate humanitarian assistance for lebanon    canadian international trade tribunal \n",
      "\n",
      "[start] le gouvernement du canada a été [UNK] de [UNK] pour le commerce international du canada end  end end end\n",
      "\n",
      "\n",
      "Input_sentence: newly published documents    canadian space agency extends macdonald dettwiler and associates ltd \n",
      "\n",
      "[start] nouveaux documents de agence canadienne dinspection des aliments [UNK] [UNK] end  end end end end end end end end\n",
      "\n",
      "\n",
      "Input_sentence: contract    canada space agency \n",
      "\n",
      "[start] agence de développement international end  end end end end end end end end end end end end end end\n",
      "\n",
      "\n",
      "Input_sentence: tremblant beneath the stars    the honourable peter mackay minister of foreign affairs and minister of the atlantic canada opportunities agency today announced on behalf of the honourable loyola hearn minister of fisheries and oceans that the government will provide  million for work at three fishing harbours in nova scotia    national defence \n",
      "\n",
      "[start] [UNK] [UNK] [UNK] [UNK] lhonorable chuck strahl ministre des affaires étrangères et du ministre de la justice et de la\n",
      "\n",
      "\n",
      "Input_sentence: canadian government deploys military to assist with departure of canadians in lebanon    national defence \n",
      "\n",
      "[start] le gouvernement du canada [UNK] les [UNK] les [UNK] les canadiens de aider les canadiens à la défense nationale end\n",
      "\n",
      "\n",
      "Input_sentence: canada and the united kingdom renew armed forces training partnership indefinitely    national defence \n",
      "\n",
      "[start] le canada et le royaumeuni est [UNK] de la formation des forces canadiennes end  end end end end end\n",
      "\n",
      "\n",
      "Input_sentence: british armed forces training in canada    national defence \n",
      "\n",
      "[start] les forces canadiennes de la formation des forces canadiennes end  end end end end end end end end end\n",
      "\n",
      "\n",
      "Input_sentence: top flight engineer student pays tribute to fallen comrades    national defence \n",
      "\n",
      "[start] [UNK] [UNK] [UNK] [UNK] [UNK] [UNK] [UNK] [UNK] [UNK] [UNK] end  end end end end end end end end\n",
      "\n",
      "\n",
      "Input_sentence: apv welcome addition to afghan arsenal video    national defence \n",
      "\n",
      "[start] [UNK] [UNK] [UNK] [UNK] [UNK] [UNK] end  end end end end end end end end end end end end\n",
      "\n",
      "\n",
      "Input_sentence: canadian forces connect with canadians at the calgary stampede    national defence \n",
      "\n",
      "[start] les forces canadiennes [UNK] les canadiens de la [UNK] de la défense nationale end  end end end end end\n",
      "\n",
      "\n",
      "Input_sentence: federal reserve force awareness campaign    finance canada \n",
      "\n",
      "[start] les mesures de [UNK] de [UNK] end  end end end end end end end end end end end end\n",
      "\n",
      "\n",
      "Input_sentence: government of canada securities  july     her excellency the right honourable michaëlle jean governor general of canada \n",
      "\n",
      "[start] le gouvernement du canada a été le excellence la très honorable michaëlle jean gouverneure générale du canada end  end\n",
      "\n",
      "\n",
      "Input_sentence: solution in the french version the phrase lentrée en possession ou tout usage is replaced by the phrase ou toute autre forme de disposition ou la possession \n",
      "\n",
      "[start] solution dans la version française le terme [UNK] est [UNK] ou [UNK] [UNK] est remplacé par ce qui est remplacé\n",
      "\n",
      "\n",
      "Input_sentence: foreign product alerts    human resources and social development \n",
      "\n",
      "[start] [UNK] [UNK] [UNK] ressources humaines et développement social end  end end end end end end end end end end\n",
      "\n",
      "\n",
      "Input_sentence: citizenshift web site podcasts history in the making    in compliance with the service improvement initiative instituted by the treasury board of canada secretariat natural sciences and engineering research council of canada has developed and published service standards and established baselines and targets for improvement    office of the superintendent of financial institutions canada \n",
      "\n",
      "[start] [UNK] web [UNK] site web [UNK] en matière de [UNK] avec le service de la commission de la commission de\n",
      "\n",
      "\n",
      "Input_sentence: financial data for federally regulated insurance companies    patented medicine prices review board \n",
      "\n",
      "[start] données sur les données des [UNK] [UNK] des prix des produits de la [UNK] des produits de la commission des\n",
      "\n",
      "\n",
      "Input_sentence: community kiosk kickoff in the east river valley in nova scotia    agriculture and agrifood canada \n",
      "\n",
      "[start] communauté européenne [UNK] en [UNK] est le [UNK] en nouvelleécosse et le en nouvelleécosse end  et end end end\n",
      "\n",
      "\n",
      "Input_sentence: funding announcement in grand falls new brunswick for potato sector project    canada council for the arts \n",
      "\n",
      "[start] financement de la [UNK] de [UNK] de la terre du secteur de la terre du nouveaubrunswick conseil de la justice\n",
      "\n",
      "\n",
      "Input_sentence: shannon mercer jane archibald darryl friesen and christianne rushton win canada council music prizes    canadian environmental assessment agency \n",
      "\n",
      "[start] [UNK] [UNK] [UNK] [UNK] [UNK] [UNK] et [UNK] [UNK] [UNK] [UNK] conseil de la [UNK] [UNK] [UNK] [UNK] [UNK] [UNK]\n",
      "\n",
      "\n",
      "Input_sentence: proposed deltaport third berth expansion project  public invited to comment on the environmental assessment report    fisheries and oceans canada \n",
      "\n",
      "[start] projet de [UNK] le troisième projet de croissance du projet de croissance du projet de la pêche du projet de\n",
      "\n",
      "\n",
      "Input_sentence: canadas new government moves forward to establish limits of our continental shelf    national defence \n",
      "\n",
      "[start] le nouveau gouvernement du canada a [UNK] [UNK] [UNK] pour [UNK] [UNK] [UNK] défense nationale end  end end end\n",
      "\n",
      "\n",
      "Input_sentence: father and daughter achieve family milestone    national defence \n",
      "\n",
      "[start] [UNK] et [UNK] de la [UNK] [UNK] end  end end end end end end end end end end end\n",
      "\n",
      "\n",
      "Input_sentence: troops show appreciation for edmonton oilers    office of the privacy commissioner of canada \n",
      "\n",
      "[start] les entreprises canadiennes de [UNK] [UNK] bureau de la protection de la vie privée du canada end  end end\n",
      "\n",
      "\n",
      "Input_sentence: disclosure of position reclassifications for the period of april  to june      the honourable stockwell day minister of public safety and emergency preparedness announces funding for youth crime prevention projects in calgary    royal canadian mounted police advises public to be cautious of fraudulent attempts to profit from its fallen members    treasury board of canada secretariat \n",
      "\n",
      "[start] preuve de communication de la preuve pour la communication de la preuve du juin lhonorable chuck strahl ministre de la\n",
      "\n",
      "\n",
      "Input_sentence: canadas new government takes action to untangle web of rules    natural resources canada \n",
      "\n",
      "[start] le nouveau gouvernement du canada doit être [UNK] des règles de [UNK] ressources naturelles canada end  end end end\n",
      "BLEU Score: 0.08936049835673852\n"
     ]
    }
   ],
   "source": [
    "import nltk.translate.bleu_score as bleu\n",
    "\n",
    "# Define the number of sentences to evaluate\n",
    "num_sentences = 100\n",
    "\n",
    "# Function to calculate BLEU score\n",
    "def calculate_bleu_score(data):\n",
    "    references = []\n",
    "    translations = []\n",
    "\n",
    "    for i in range(num_sentences):\n",
    "        input_sentence = data[i][0]  # English input sentence\n",
    "        target_sentence = data[i][1]  # Target (reference) sentence\n",
    "\n",
    "        print(\"\\n\\nInput_sentence:\", input_sentence, \"\\n\")\n",
    "        # Decode the input sentence\n",
    "        decoded_sentence = decode_sequence(input_sentence)\n",
    "        \n",
    "        print(decoded_sentence)\n",
    "\n",
    "        # Store the reference and translation sentences for BLEU score calculation\n",
    "        references.append([target_sentence.split()])\n",
    "        translations.append(decoded_sentence.split())\n",
    "\n",
    "    # Calculate the BLEU score\n",
    "    bleu_score = bleu.corpus_bleu(references, translations)\n",
    "\n",
    "    return bleu_score\n",
    "\n",
    "# Calculate BLEU score on a subset of the test data\n",
    "test_subset = test_data[:num_sentences].tolist()\n",
    "bleu_score = calculate_bleu_score(test_subset)\n",
    "print(\"BLEU Score:\", bleu_score)"
   ]
  },
  {
   "cell_type": "markdown",
   "id": "9df7388a",
   "metadata": {},
   "source": [
    "<div style=\"background-color: #fcf2f2; border-color: #dfb5b4; border-left: 5px solid #dfb5b4; padding: 0.5em;\">\n",
    "<strong>Comentarios:</strong>\n",
    "<br><br>\n",
    "\n",
    "Tras las mejoras proporcionadas, hemos subido de un BLEU-Score de 0,025 a uno con 0,089 lo cual ha sido un incremento “aceptable”.\n",
    "    \n",
    "Leyendo diversos artículos, en general con esta arquitectura los resultados obtenidos son los esperados, y puede ser que arquitectura es muy simple para este tipo de problemas, por lo que incrementar la estructura añadiendo mas encoder y decoder (en algún artículo ponían 60 encoder y 12 decoder) podría hacer subir el valor del BLEU-score.\n",
    "\n",
    "<br><br>\n",
    "</div>"
   ]
  }
 ],
 "metadata": {
  "kernelspec": {
   "display_name": "Python 3 (ipykernel)",
   "language": "python",
   "name": "python3"
  },
  "language_info": {
   "codemirror_mode": {
    "name": "ipython",
    "version": 3
   },
   "file_extension": ".py",
   "mimetype": "text/x-python",
   "name": "python",
   "nbconvert_exporter": "python",
   "pygments_lexer": "ipython3",
   "version": "3.9.12"
  }
 },
 "nbformat": 4,
 "nbformat_minor": 5
}
